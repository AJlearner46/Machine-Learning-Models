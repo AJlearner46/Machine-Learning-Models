{
 "cells": [
  {
   "cell_type": "markdown",
   "id": "849a6e1c",
   "metadata": {
    "papermill": {
     "duration": 0.021179,
     "end_time": "2024-01-19T16:21:25.810816",
     "exception": false,
     "start_time": "2024-01-19T16:21:25.789637",
     "status": "completed"
    },
    "tags": []
   },
   "source": [
    "### This Time i'll do in depth EDA to Netflix movies & TV show and also gonna create content based recommendation 🎥🍿\n",
    "\n",
    "\n",
    "\n",
    "<center>\n",
    "    <figure>\n",
    "        <img src=\"https://media.giphy.com/media/v1.Y2lkPTc5MGI3NjExMDdpYjhvZjRubjV6bDM2M2FyOTAyNHVoZzdrODJ4MXgza2dpYmM5dyZlcD12MV9pbnRlcm5hbF9naWZfYnlfaWQmY3Q9Zw/nxC1YCvGlsLDVGZ2Vt/giphy.gif\"  style='width:30%;'>\n",
    "    </figure>\n",
    "</center>\n"
   ]
  },
  {
   "cell_type": "code",
   "execution_count": 1,
   "id": "b7e6574f",
   "metadata": {
    "execution": {
     "iopub.execute_input": "2024-01-19T16:21:25.852553Z",
     "iopub.status.busy": "2024-01-19T16:21:25.851864Z",
     "iopub.status.idle": "2024-01-19T16:21:29.373440Z",
     "shell.execute_reply": "2024-01-19T16:21:29.372420Z"
    },
    "papermill": {
     "duration": 3.545079,
     "end_time": "2024-01-19T16:21:29.376138",
     "exception": false,
     "start_time": "2024-01-19T16:21:25.831059",
     "status": "completed"
    },
    "tags": []
   },
   "outputs": [],
   "source": [
    "# Import All Libraries\n",
    "\n",
    "import pandas as pd\n",
    "import numpy as np\n",
    "import seaborn as sns\n",
    "import matplotlib.pyplot as plt\n",
    "import plotly.express as px\n",
    "import plotly.graph_objects as go\n",
    "import plotly.figure_factory as ff\n",
    "from plotly.subplots import make_subplots\n",
    "\n"
   ]
  },
  {
   "cell_type": "markdown",
   "id": "b6c9bb94",
   "metadata": {
    "papermill": {
     "duration": 0.018936,
     "end_time": "2024-01-19T16:21:29.414568",
     "exception": false,
     "start_time": "2024-01-19T16:21:29.395632",
     "status": "completed"
    },
    "tags": []
   },
   "source": [
    "# OTT Movies Dataset"
   ]
  },
  {
   "cell_type": "markdown",
   "id": "7483a39c",
   "metadata": {
    "papermill": {
     "duration": 0.020445,
     "end_time": "2024-01-19T16:21:29.455010",
     "exception": false,
     "start_time": "2024-01-19T16:21:29.434565",
     "status": "completed"
    },
    "tags": []
   },
   "source": [
    "#### Let's look dataset"
   ]
  },
  {
   "cell_type": "code",
   "execution_count": 2,
   "id": "2c0b7079",
   "metadata": {
    "execution": {
     "iopub.execute_input": "2024-01-19T16:21:29.496203Z",
     "iopub.status.busy": "2024-01-19T16:21:29.495214Z",
     "iopub.status.idle": "2024-01-19T16:21:29.651268Z",
     "shell.execute_reply": "2024-01-19T16:21:29.650126Z"
    },
    "papermill": {
     "duration": 0.179564,
     "end_time": "2024-01-19T16:21:29.653830",
     "exception": false,
     "start_time": "2024-01-19T16:21:29.474266",
     "status": "completed"
    },
    "tags": []
   },
   "outputs": [
    {
     "data": {
      "text/html": [
       "<div>\n",
       "<style scoped>\n",
       "    .dataframe tbody tr th:only-of-type {\n",
       "        vertical-align: middle;\n",
       "    }\n",
       "\n",
       "    .dataframe tbody tr th {\n",
       "        vertical-align: top;\n",
       "    }\n",
       "\n",
       "    .dataframe thead th {\n",
       "        text-align: right;\n",
       "    }\n",
       "</style>\n",
       "<table border=\"1\" class=\"dataframe\">\n",
       "  <thead>\n",
       "    <tr style=\"text-align: right;\">\n",
       "      <th></th>\n",
       "      <th>show_id</th>\n",
       "      <th>type</th>\n",
       "      <th>title</th>\n",
       "      <th>director</th>\n",
       "      <th>cast</th>\n",
       "      <th>country</th>\n",
       "      <th>date_added</th>\n",
       "      <th>release_year</th>\n",
       "      <th>rating</th>\n",
       "      <th>duration</th>\n",
       "      <th>listed_in</th>\n",
       "      <th>description</th>\n",
       "    </tr>\n",
       "  </thead>\n",
       "  <tbody>\n",
       "    <tr>\n",
       "      <th>0</th>\n",
       "      <td>s1</td>\n",
       "      <td>Movie</td>\n",
       "      <td>Dick Johnson Is Dead</td>\n",
       "      <td>Kirsten Johnson</td>\n",
       "      <td>NaN</td>\n",
       "      <td>United States</td>\n",
       "      <td>September 25, 2021</td>\n",
       "      <td>2020</td>\n",
       "      <td>PG-13</td>\n",
       "      <td>90 min</td>\n",
       "      <td>Documentaries</td>\n",
       "      <td>As her father nears the end of his life, filmm...</td>\n",
       "    </tr>\n",
       "    <tr>\n",
       "      <th>1</th>\n",
       "      <td>s2</td>\n",
       "      <td>TV Show</td>\n",
       "      <td>Blood &amp; Water</td>\n",
       "      <td>NaN</td>\n",
       "      <td>Ama Qamata, Khosi Ngema, Gail Mabalane, Thaban...</td>\n",
       "      <td>South Africa</td>\n",
       "      <td>September 24, 2021</td>\n",
       "      <td>2021</td>\n",
       "      <td>TV-MA</td>\n",
       "      <td>2 Seasons</td>\n",
       "      <td>International TV Shows, TV Dramas, TV Mysteries</td>\n",
       "      <td>After crossing paths at a party, a Cape Town t...</td>\n",
       "    </tr>\n",
       "    <tr>\n",
       "      <th>2</th>\n",
       "      <td>s3</td>\n",
       "      <td>TV Show</td>\n",
       "      <td>Ganglands</td>\n",
       "      <td>Julien Leclercq</td>\n",
       "      <td>Sami Bouajila, Tracy Gotoas, Samuel Jouy, Nabi...</td>\n",
       "      <td>NaN</td>\n",
       "      <td>September 24, 2021</td>\n",
       "      <td>2021</td>\n",
       "      <td>TV-MA</td>\n",
       "      <td>1 Season</td>\n",
       "      <td>Crime TV Shows, International TV Shows, TV Act...</td>\n",
       "      <td>To protect his family from a powerful drug lor...</td>\n",
       "    </tr>\n",
       "    <tr>\n",
       "      <th>3</th>\n",
       "      <td>s4</td>\n",
       "      <td>TV Show</td>\n",
       "      <td>Jailbirds New Orleans</td>\n",
       "      <td>NaN</td>\n",
       "      <td>NaN</td>\n",
       "      <td>NaN</td>\n",
       "      <td>September 24, 2021</td>\n",
       "      <td>2021</td>\n",
       "      <td>TV-MA</td>\n",
       "      <td>1 Season</td>\n",
       "      <td>Docuseries, Reality TV</td>\n",
       "      <td>Feuds, flirtations and toilet talk go down amo...</td>\n",
       "    </tr>\n",
       "    <tr>\n",
       "      <th>4</th>\n",
       "      <td>s5</td>\n",
       "      <td>TV Show</td>\n",
       "      <td>Kota Factory</td>\n",
       "      <td>NaN</td>\n",
       "      <td>Mayur More, Jitendra Kumar, Ranjan Raj, Alam K...</td>\n",
       "      <td>India</td>\n",
       "      <td>September 24, 2021</td>\n",
       "      <td>2021</td>\n",
       "      <td>TV-MA</td>\n",
       "      <td>2 Seasons</td>\n",
       "      <td>International TV Shows, Romantic TV Shows, TV ...</td>\n",
       "      <td>In a city of coaching centers known to train I...</td>\n",
       "    </tr>\n",
       "  </tbody>\n",
       "</table>\n",
       "</div>"
      ],
      "text/plain": [
       "  show_id     type                  title         director  \\\n",
       "0      s1    Movie   Dick Johnson Is Dead  Kirsten Johnson   \n",
       "1      s2  TV Show          Blood & Water              NaN   \n",
       "2      s3  TV Show              Ganglands  Julien Leclercq   \n",
       "3      s4  TV Show  Jailbirds New Orleans              NaN   \n",
       "4      s5  TV Show           Kota Factory              NaN   \n",
       "\n",
       "                                                cast        country  \\\n",
       "0                                                NaN  United States   \n",
       "1  Ama Qamata, Khosi Ngema, Gail Mabalane, Thaban...   South Africa   \n",
       "2  Sami Bouajila, Tracy Gotoas, Samuel Jouy, Nabi...            NaN   \n",
       "3                                                NaN            NaN   \n",
       "4  Mayur More, Jitendra Kumar, Ranjan Raj, Alam K...          India   \n",
       "\n",
       "           date_added  release_year rating   duration  \\\n",
       "0  September 25, 2021          2020  PG-13     90 min   \n",
       "1  September 24, 2021          2021  TV-MA  2 Seasons   \n",
       "2  September 24, 2021          2021  TV-MA   1 Season   \n",
       "3  September 24, 2021          2021  TV-MA   1 Season   \n",
       "4  September 24, 2021          2021  TV-MA  2 Seasons   \n",
       "\n",
       "                                           listed_in  \\\n",
       "0                                      Documentaries   \n",
       "1    International TV Shows, TV Dramas, TV Mysteries   \n",
       "2  Crime TV Shows, International TV Shows, TV Act...   \n",
       "3                             Docuseries, Reality TV   \n",
       "4  International TV Shows, Romantic TV Shows, TV ...   \n",
       "\n",
       "                                         description  \n",
       "0  As her father nears the end of his life, filmm...  \n",
       "1  After crossing paths at a party, a Cape Town t...  \n",
       "2  To protect his family from a powerful drug lor...  \n",
       "3  Feuds, flirtations and toilet talk go down amo...  \n",
       "4  In a city of coaching centers known to train I...  "
      ]
     },
     "execution_count": 2,
     "metadata": {},
     "output_type": "execute_result"
    }
   ],
   "source": [
    "# Loading dataset\n",
    "\n",
    "OTT = pd.read_csv(\"/kaggle/input/netflix-shows/netflix_titles.csv\")\n",
    "OTT.head()"
   ]
  },
  {
   "cell_type": "markdown",
   "id": "6aa7e5fa",
   "metadata": {
    "papermill": {
     "duration": 0.019571,
     "end_time": "2024-01-19T16:21:29.693502",
     "exception": false,
     "start_time": "2024-01-19T16:21:29.673931",
     "status": "completed"
    },
    "tags": []
   },
   "source": [
    "#### Dataset \n",
    "\n",
    "* Looks like dataset contain details about movies & Tv shows such as title, director, cast, relased year, rating, duration, description etc."
   ]
  },
  {
   "cell_type": "code",
   "execution_count": 3,
   "id": "e3238d08",
   "metadata": {
    "execution": {
     "iopub.execute_input": "2024-01-19T16:21:29.735619Z",
     "iopub.status.busy": "2024-01-19T16:21:29.735183Z",
     "iopub.status.idle": "2024-01-19T16:21:29.774244Z",
     "shell.execute_reply": "2024-01-19T16:21:29.772678Z"
    },
    "papermill": {
     "duration": 0.063396,
     "end_time": "2024-01-19T16:21:29.777270",
     "exception": false,
     "start_time": "2024-01-19T16:21:29.713874",
     "status": "completed"
    },
    "tags": []
   },
   "outputs": [
    {
     "name": "stdout",
     "output_type": "stream",
     "text": [
      "<class 'pandas.core.frame.DataFrame'>\n",
      "RangeIndex: 8807 entries, 0 to 8806\n",
      "Data columns (total 12 columns):\n",
      " #   Column        Non-Null Count  Dtype \n",
      "---  ------        --------------  ----- \n",
      " 0   show_id       8807 non-null   object\n",
      " 1   type          8807 non-null   object\n",
      " 2   title         8807 non-null   object\n",
      " 3   director      6173 non-null   object\n",
      " 4   cast          7982 non-null   object\n",
      " 5   country       7976 non-null   object\n",
      " 6   date_added    8797 non-null   object\n",
      " 7   release_year  8807 non-null   int64 \n",
      " 8   rating        8803 non-null   object\n",
      " 9   duration      8804 non-null   object\n",
      " 10  listed_in     8807 non-null   object\n",
      " 11  description   8807 non-null   object\n",
      "dtypes: int64(1), object(11)\n",
      "memory usage: 825.8+ KB\n"
     ]
    }
   ],
   "source": [
    "OTT.info()"
   ]
  },
  {
   "cell_type": "markdown",
   "id": "839079b4",
   "metadata": {
    "papermill": {
     "duration": 0.01967,
     "end_time": "2024-01-19T16:21:29.816699",
     "exception": false,
     "start_time": "2024-01-19T16:21:29.797029",
     "status": "completed"
    },
    "tags": []
   },
   "source": [
    "* Total 12 cloumns with many cloumns having null values"
   ]
  },
  {
   "cell_type": "code",
   "execution_count": 4,
   "id": "c01ce93f",
   "metadata": {
    "execution": {
     "iopub.execute_input": "2024-01-19T16:21:29.858553Z",
     "iopub.status.busy": "2024-01-19T16:21:29.857937Z",
     "iopub.status.idle": "2024-01-19T16:21:29.870400Z",
     "shell.execute_reply": "2024-01-19T16:21:29.869545Z"
    },
    "papermill": {
     "duration": 0.036111,
     "end_time": "2024-01-19T16:21:29.872745",
     "exception": false,
     "start_time": "2024-01-19T16:21:29.836634",
     "status": "completed"
    },
    "tags": []
   },
   "outputs": [],
   "source": [
    "## here dataset contain details about both movies and shows so let's make two diffrent dataframes for this two.\n",
    "OTT_movies = OTT[OTT['type'] == 'Movie']\n",
    "OTT_shows = OTT[OTT['type'] == 'TV Show']"
   ]
  },
  {
   "cell_type": "code",
   "execution_count": 5,
   "id": "ac78b52e",
   "metadata": {
    "execution": {
     "iopub.execute_input": "2024-01-19T16:21:29.916312Z",
     "iopub.status.busy": "2024-01-19T16:21:29.915724Z",
     "iopub.status.idle": "2024-01-19T16:21:29.919312Z",
     "shell.execute_reply": "2024-01-19T16:21:29.918574Z"
    },
    "papermill": {
     "duration": 0.027987,
     "end_time": "2024-01-19T16:21:29.921387",
     "exception": false,
     "start_time": "2024-01-19T16:21:29.893400",
     "status": "completed"
    },
    "tags": []
   },
   "outputs": [],
   "source": [
    "#OTT_movies.head()"
   ]
  },
  {
   "cell_type": "markdown",
   "id": "b3cae8f0",
   "metadata": {
    "papermill": {
     "duration": 0.020596,
     "end_time": "2024-01-19T16:21:30.025434",
     "exception": false,
     "start_time": "2024-01-19T16:21:30.004838",
     "status": "completed"
    },
    "tags": []
   },
   "source": [
    "# data preprocessing"
   ]
  },
  {
   "cell_type": "code",
   "execution_count": 6,
   "id": "3b467b73",
   "metadata": {
    "execution": {
     "iopub.execute_input": "2024-01-19T16:21:30.068220Z",
     "iopub.status.busy": "2024-01-19T16:21:30.067609Z",
     "iopub.status.idle": "2024-01-19T16:21:30.085196Z",
     "shell.execute_reply": "2024-01-19T16:21:30.084404Z"
    },
    "papermill": {
     "duration": 0.04121,
     "end_time": "2024-01-19T16:21:30.087441",
     "exception": false,
     "start_time": "2024-01-19T16:21:30.046231",
     "status": "completed"
    },
    "tags": []
   },
   "outputs": [
    {
     "data": {
      "text/plain": [
       "show_id            0\n",
       "type               0\n",
       "title              0\n",
       "director        2634\n",
       "cast             825\n",
       "country          831\n",
       "date_added        10\n",
       "release_year       0\n",
       "rating             4\n",
       "duration           3\n",
       "listed_in          0\n",
       "description        0\n",
       "dtype: int64"
      ]
     },
     "execution_count": 6,
     "metadata": {},
     "output_type": "execute_result"
    }
   ],
   "source": [
    "OTT.isna().sum()"
   ]
  },
  {
   "cell_type": "markdown",
   "id": "2de8f7fd",
   "metadata": {
    "papermill": {
     "duration": 0.019885,
     "end_time": "2024-01-19T16:21:30.129295",
     "exception": false,
     "start_time": "2024-01-19T16:21:30.109410",
     "status": "completed"
    },
    "tags": []
   },
   "source": [
    "* handling date_added column "
   ]
  },
  {
   "cell_type": "code",
   "execution_count": 7,
   "id": "b177f6aa",
   "metadata": {
    "execution": {
     "iopub.execute_input": "2024-01-19T16:21:30.171600Z",
     "iopub.status.busy": "2024-01-19T16:21:30.170864Z",
     "iopub.status.idle": "2024-01-19T16:21:30.191535Z",
     "shell.execute_reply": "2024-01-19T16:21:30.190389Z"
    },
    "papermill": {
     "duration": 0.044552,
     "end_time": "2024-01-19T16:21:30.193957",
     "exception": false,
     "start_time": "2024-01-19T16:21:30.149405",
     "status": "completed"
    },
    "tags": []
   },
   "outputs": [
    {
     "data": {
      "text/html": [
       "<div>\n",
       "<style scoped>\n",
       "    .dataframe tbody tr th:only-of-type {\n",
       "        vertical-align: middle;\n",
       "    }\n",
       "\n",
       "    .dataframe tbody tr th {\n",
       "        vertical-align: top;\n",
       "    }\n",
       "\n",
       "    .dataframe thead th {\n",
       "        text-align: right;\n",
       "    }\n",
       "</style>\n",
       "<table border=\"1\" class=\"dataframe\">\n",
       "  <thead>\n",
       "    <tr style=\"text-align: right;\">\n",
       "      <th></th>\n",
       "      <th>show_id</th>\n",
       "      <th>type</th>\n",
       "      <th>title</th>\n",
       "      <th>director</th>\n",
       "      <th>cast</th>\n",
       "      <th>country</th>\n",
       "      <th>date_added</th>\n",
       "      <th>release_year</th>\n",
       "      <th>rating</th>\n",
       "      <th>duration</th>\n",
       "      <th>listed_in</th>\n",
       "      <th>description</th>\n",
       "    </tr>\n",
       "  </thead>\n",
       "  <tbody>\n",
       "    <tr>\n",
       "      <th>6066</th>\n",
       "      <td>s6067</td>\n",
       "      <td>TV Show</td>\n",
       "      <td>A Young Doctor's Notebook and Other Stories</td>\n",
       "      <td>NaN</td>\n",
       "      <td>Daniel Radcliffe, Jon Hamm, Adam Godley, Chris...</td>\n",
       "      <td>United Kingdom</td>\n",
       "      <td>NaN</td>\n",
       "      <td>2013</td>\n",
       "      <td>TV-MA</td>\n",
       "      <td>2 Seasons</td>\n",
       "      <td>British TV Shows, TV Comedies, TV Dramas</td>\n",
       "      <td>Set during the Russian Revolution, this comic ...</td>\n",
       "    </tr>\n",
       "    <tr>\n",
       "      <th>6174</th>\n",
       "      <td>s6175</td>\n",
       "      <td>TV Show</td>\n",
       "      <td>Anthony Bourdain: Parts Unknown</td>\n",
       "      <td>NaN</td>\n",
       "      <td>Anthony Bourdain</td>\n",
       "      <td>United States</td>\n",
       "      <td>NaN</td>\n",
       "      <td>2018</td>\n",
       "      <td>TV-PG</td>\n",
       "      <td>5 Seasons</td>\n",
       "      <td>Docuseries</td>\n",
       "      <td>This CNN original series has chef Anthony Bour...</td>\n",
       "    </tr>\n",
       "    <tr>\n",
       "      <th>6795</th>\n",
       "      <td>s6796</td>\n",
       "      <td>TV Show</td>\n",
       "      <td>Frasier</td>\n",
       "      <td>NaN</td>\n",
       "      <td>Kelsey Grammer, Jane Leeves, David Hyde Pierce...</td>\n",
       "      <td>United States</td>\n",
       "      <td>NaN</td>\n",
       "      <td>2003</td>\n",
       "      <td>TV-PG</td>\n",
       "      <td>11 Seasons</td>\n",
       "      <td>Classic &amp; Cult TV, TV Comedies</td>\n",
       "      <td>Frasier Crane is a snooty but lovable Seattle ...</td>\n",
       "    </tr>\n",
       "    <tr>\n",
       "      <th>6806</th>\n",
       "      <td>s6807</td>\n",
       "      <td>TV Show</td>\n",
       "      <td>Friends</td>\n",
       "      <td>NaN</td>\n",
       "      <td>Jennifer Aniston, Courteney Cox, Lisa Kudrow, ...</td>\n",
       "      <td>United States</td>\n",
       "      <td>NaN</td>\n",
       "      <td>2003</td>\n",
       "      <td>TV-14</td>\n",
       "      <td>10 Seasons</td>\n",
       "      <td>Classic &amp; Cult TV, TV Comedies</td>\n",
       "      <td>This hit sitcom follows the merry misadventure...</td>\n",
       "    </tr>\n",
       "    <tr>\n",
       "      <th>6901</th>\n",
       "      <td>s6902</td>\n",
       "      <td>TV Show</td>\n",
       "      <td>Gunslinger Girl</td>\n",
       "      <td>NaN</td>\n",
       "      <td>Yuuka Nanri, Kanako Mitsuhashi, Eri Sendai, Am...</td>\n",
       "      <td>Japan</td>\n",
       "      <td>NaN</td>\n",
       "      <td>2008</td>\n",
       "      <td>TV-14</td>\n",
       "      <td>2 Seasons</td>\n",
       "      <td>Anime Series, Crime TV Shows</td>\n",
       "      <td>On the surface, the Social Welfare Agency appe...</td>\n",
       "    </tr>\n",
       "    <tr>\n",
       "      <th>7196</th>\n",
       "      <td>s7197</td>\n",
       "      <td>TV Show</td>\n",
       "      <td>Kikoriki</td>\n",
       "      <td>NaN</td>\n",
       "      <td>Igor Dmitriev</td>\n",
       "      <td>NaN</td>\n",
       "      <td>NaN</td>\n",
       "      <td>2010</td>\n",
       "      <td>TV-Y</td>\n",
       "      <td>2 Seasons</td>\n",
       "      <td>Kids' TV</td>\n",
       "      <td>A wacky rabbit and his gang of animal pals hav...</td>\n",
       "    </tr>\n",
       "    <tr>\n",
       "      <th>7254</th>\n",
       "      <td>s7255</td>\n",
       "      <td>TV Show</td>\n",
       "      <td>La Familia P. Luche</td>\n",
       "      <td>NaN</td>\n",
       "      <td>Eugenio Derbez, Consuelo Duval, Luis Manuel Áv...</td>\n",
       "      <td>United States</td>\n",
       "      <td>NaN</td>\n",
       "      <td>2012</td>\n",
       "      <td>TV-14</td>\n",
       "      <td>3 Seasons</td>\n",
       "      <td>International TV Shows, Spanish-Language TV Sh...</td>\n",
       "      <td>This irreverent sitcom featues Ludovico, Feder...</td>\n",
       "    </tr>\n",
       "    <tr>\n",
       "      <th>7406</th>\n",
       "      <td>s7407</td>\n",
       "      <td>TV Show</td>\n",
       "      <td>Maron</td>\n",
       "      <td>NaN</td>\n",
       "      <td>Marc Maron, Judd Hirsch, Josh Brener, Nora Zeh...</td>\n",
       "      <td>United States</td>\n",
       "      <td>NaN</td>\n",
       "      <td>2016</td>\n",
       "      <td>TV-MA</td>\n",
       "      <td>4 Seasons</td>\n",
       "      <td>TV Comedies</td>\n",
       "      <td>Marc Maron stars as Marc Maron, who interviews...</td>\n",
       "    </tr>\n",
       "    <tr>\n",
       "      <th>7847</th>\n",
       "      <td>s7848</td>\n",
       "      <td>TV Show</td>\n",
       "      <td>Red vs. Blue</td>\n",
       "      <td>NaN</td>\n",
       "      <td>Burnie Burns, Jason Saldaña, Gustavo Sorola, G...</td>\n",
       "      <td>United States</td>\n",
       "      <td>NaN</td>\n",
       "      <td>2015</td>\n",
       "      <td>NR</td>\n",
       "      <td>13 Seasons</td>\n",
       "      <td>TV Action &amp; Adventure, TV Comedies, TV Sci-Fi ...</td>\n",
       "      <td>This parody of first-person shooter games, mil...</td>\n",
       "    </tr>\n",
       "    <tr>\n",
       "      <th>8182</th>\n",
       "      <td>s8183</td>\n",
       "      <td>TV Show</td>\n",
       "      <td>The Adventures of Figaro Pho</td>\n",
       "      <td>NaN</td>\n",
       "      <td>Luke Jurevicius, Craig Behenna, Charlotte Haml...</td>\n",
       "      <td>Australia</td>\n",
       "      <td>NaN</td>\n",
       "      <td>2015</td>\n",
       "      <td>TV-Y7</td>\n",
       "      <td>2 Seasons</td>\n",
       "      <td>Kids' TV, TV Comedies</td>\n",
       "      <td>Imagine your worst fears, then multiply them: ...</td>\n",
       "    </tr>\n",
       "  </tbody>\n",
       "</table>\n",
       "</div>"
      ],
      "text/plain": [
       "     show_id     type                                        title director  \\\n",
       "6066   s6067  TV Show  A Young Doctor's Notebook and Other Stories      NaN   \n",
       "6174   s6175  TV Show              Anthony Bourdain: Parts Unknown      NaN   \n",
       "6795   s6796  TV Show                                      Frasier      NaN   \n",
       "6806   s6807  TV Show                                      Friends      NaN   \n",
       "6901   s6902  TV Show                              Gunslinger Girl      NaN   \n",
       "7196   s7197  TV Show                                     Kikoriki      NaN   \n",
       "7254   s7255  TV Show                          La Familia P. Luche      NaN   \n",
       "7406   s7407  TV Show                                        Maron      NaN   \n",
       "7847   s7848  TV Show                                 Red vs. Blue      NaN   \n",
       "8182   s8183  TV Show                 The Adventures of Figaro Pho      NaN   \n",
       "\n",
       "                                                   cast         country  \\\n",
       "6066  Daniel Radcliffe, Jon Hamm, Adam Godley, Chris...  United Kingdom   \n",
       "6174                                   Anthony Bourdain   United States   \n",
       "6795  Kelsey Grammer, Jane Leeves, David Hyde Pierce...   United States   \n",
       "6806  Jennifer Aniston, Courteney Cox, Lisa Kudrow, ...   United States   \n",
       "6901  Yuuka Nanri, Kanako Mitsuhashi, Eri Sendai, Am...           Japan   \n",
       "7196                                      Igor Dmitriev             NaN   \n",
       "7254  Eugenio Derbez, Consuelo Duval, Luis Manuel Áv...   United States   \n",
       "7406  Marc Maron, Judd Hirsch, Josh Brener, Nora Zeh...   United States   \n",
       "7847  Burnie Burns, Jason Saldaña, Gustavo Sorola, G...   United States   \n",
       "8182  Luke Jurevicius, Craig Behenna, Charlotte Haml...       Australia   \n",
       "\n",
       "     date_added  release_year rating    duration  \\\n",
       "6066        NaN          2013  TV-MA   2 Seasons   \n",
       "6174        NaN          2018  TV-PG   5 Seasons   \n",
       "6795        NaN          2003  TV-PG  11 Seasons   \n",
       "6806        NaN          2003  TV-14  10 Seasons   \n",
       "6901        NaN          2008  TV-14   2 Seasons   \n",
       "7196        NaN          2010   TV-Y   2 Seasons   \n",
       "7254        NaN          2012  TV-14   3 Seasons   \n",
       "7406        NaN          2016  TV-MA   4 Seasons   \n",
       "7847        NaN          2015     NR  13 Seasons   \n",
       "8182        NaN          2015  TV-Y7   2 Seasons   \n",
       "\n",
       "                                              listed_in  \\\n",
       "6066           British TV Shows, TV Comedies, TV Dramas   \n",
       "6174                                         Docuseries   \n",
       "6795                     Classic & Cult TV, TV Comedies   \n",
       "6806                     Classic & Cult TV, TV Comedies   \n",
       "6901                       Anime Series, Crime TV Shows   \n",
       "7196                                           Kids' TV   \n",
       "7254  International TV Shows, Spanish-Language TV Sh...   \n",
       "7406                                        TV Comedies   \n",
       "7847  TV Action & Adventure, TV Comedies, TV Sci-Fi ...   \n",
       "8182                              Kids' TV, TV Comedies   \n",
       "\n",
       "                                            description  \n",
       "6066  Set during the Russian Revolution, this comic ...  \n",
       "6174  This CNN original series has chef Anthony Bour...  \n",
       "6795  Frasier Crane is a snooty but lovable Seattle ...  \n",
       "6806  This hit sitcom follows the merry misadventure...  \n",
       "6901  On the surface, the Social Welfare Agency appe...  \n",
       "7196  A wacky rabbit and his gang of animal pals hav...  \n",
       "7254  This irreverent sitcom featues Ludovico, Feder...  \n",
       "7406  Marc Maron stars as Marc Maron, who interviews...  \n",
       "7847  This parody of first-person shooter games, mil...  \n",
       "8182  Imagine your worst fears, then multiply them: ...  "
      ]
     },
     "execution_count": 7,
     "metadata": {},
     "output_type": "execute_result"
    }
   ],
   "source": [
    "OTT[OTT['date_added'].isna()]"
   ]
  },
  {
   "cell_type": "markdown",
   "id": "370c5299",
   "metadata": {
    "papermill": {
     "duration": 0.020425,
     "end_time": "2024-01-19T16:21:30.235283",
     "exception": false,
     "start_time": "2024-01-19T16:21:30.214858",
     "status": "completed"
    },
    "tags": []
   },
   "source": [
    "we can't able to find date_added from internet as well as they are only 10 rows so i will drop them\n"
   ]
  },
  {
   "cell_type": "code",
   "execution_count": 8,
   "id": "1dcf2d10",
   "metadata": {
    "execution": {
     "iopub.execute_input": "2024-01-19T16:21:30.278701Z",
     "iopub.status.busy": "2024-01-19T16:21:30.278258Z",
     "iopub.status.idle": "2024-01-19T16:21:30.286309Z",
     "shell.execute_reply": "2024-01-19T16:21:30.285523Z"
    },
    "papermill": {
     "duration": 0.032488,
     "end_time": "2024-01-19T16:21:30.288535",
     "exception": false,
     "start_time": "2024-01-19T16:21:30.256047",
     "status": "completed"
    },
    "tags": []
   },
   "outputs": [],
   "source": [
    "OTT = OTT[OTT['date_added'].notna()]"
   ]
  },
  {
   "cell_type": "code",
   "execution_count": 9,
   "id": "00d08a94",
   "metadata": {
    "execution": {
     "iopub.execute_input": "2024-01-19T16:21:30.332543Z",
     "iopub.status.busy": "2024-01-19T16:21:30.331700Z",
     "iopub.status.idle": "2024-01-19T16:21:30.348278Z",
     "shell.execute_reply": "2024-01-19T16:21:30.347431Z"
    },
    "papermill": {
     "duration": 0.040825,
     "end_time": "2024-01-19T16:21:30.350581",
     "exception": false,
     "start_time": "2024-01-19T16:21:30.309756",
     "status": "completed"
    },
    "tags": []
   },
   "outputs": [
    {
     "data": {
      "text/html": [
       "<div>\n",
       "<style scoped>\n",
       "    .dataframe tbody tr th:only-of-type {\n",
       "        vertical-align: middle;\n",
       "    }\n",
       "\n",
       "    .dataframe tbody tr th {\n",
       "        vertical-align: top;\n",
       "    }\n",
       "\n",
       "    .dataframe thead th {\n",
       "        text-align: right;\n",
       "    }\n",
       "</style>\n",
       "<table border=\"1\" class=\"dataframe\">\n",
       "  <thead>\n",
       "    <tr style=\"text-align: right;\">\n",
       "      <th></th>\n",
       "      <th>show_id</th>\n",
       "      <th>type</th>\n",
       "      <th>title</th>\n",
       "      <th>director</th>\n",
       "      <th>cast</th>\n",
       "      <th>country</th>\n",
       "      <th>date_added</th>\n",
       "      <th>release_year</th>\n",
       "      <th>rating</th>\n",
       "      <th>duration</th>\n",
       "      <th>listed_in</th>\n",
       "      <th>description</th>\n",
       "    </tr>\n",
       "  </thead>\n",
       "  <tbody>\n",
       "    <tr>\n",
       "      <th>0</th>\n",
       "      <td>s1</td>\n",
       "      <td>Movie</td>\n",
       "      <td>Dick Johnson Is Dead</td>\n",
       "      <td>Kirsten Johnson</td>\n",
       "      <td>NaN</td>\n",
       "      <td>United States</td>\n",
       "      <td>September 25, 2021</td>\n",
       "      <td>2020</td>\n",
       "      <td>PG-13</td>\n",
       "      <td>90 min</td>\n",
       "      <td>Documentaries</td>\n",
       "      <td>As her father nears the end of his life, filmm...</td>\n",
       "    </tr>\n",
       "    <tr>\n",
       "      <th>1</th>\n",
       "      <td>s2</td>\n",
       "      <td>TV Show</td>\n",
       "      <td>Blood &amp; Water</td>\n",
       "      <td>NaN</td>\n",
       "      <td>Ama Qamata, Khosi Ngema, Gail Mabalane, Thaban...</td>\n",
       "      <td>South Africa</td>\n",
       "      <td>September 24, 2021</td>\n",
       "      <td>2021</td>\n",
       "      <td>TV-MA</td>\n",
       "      <td>2 Seasons</td>\n",
       "      <td>International TV Shows, TV Dramas, TV Mysteries</td>\n",
       "      <td>After crossing paths at a party, a Cape Town t...</td>\n",
       "    </tr>\n",
       "    <tr>\n",
       "      <th>2</th>\n",
       "      <td>s3</td>\n",
       "      <td>TV Show</td>\n",
       "      <td>Ganglands</td>\n",
       "      <td>Julien Leclercq</td>\n",
       "      <td>Sami Bouajila, Tracy Gotoas, Samuel Jouy, Nabi...</td>\n",
       "      <td>NaN</td>\n",
       "      <td>September 24, 2021</td>\n",
       "      <td>2021</td>\n",
       "      <td>TV-MA</td>\n",
       "      <td>1 Season</td>\n",
       "      <td>Crime TV Shows, International TV Shows, TV Act...</td>\n",
       "      <td>To protect his family from a powerful drug lor...</td>\n",
       "    </tr>\n",
       "    <tr>\n",
       "      <th>3</th>\n",
       "      <td>s4</td>\n",
       "      <td>TV Show</td>\n",
       "      <td>Jailbirds New Orleans</td>\n",
       "      <td>NaN</td>\n",
       "      <td>NaN</td>\n",
       "      <td>NaN</td>\n",
       "      <td>September 24, 2021</td>\n",
       "      <td>2021</td>\n",
       "      <td>TV-MA</td>\n",
       "      <td>1 Season</td>\n",
       "      <td>Docuseries, Reality TV</td>\n",
       "      <td>Feuds, flirtations and toilet talk go down amo...</td>\n",
       "    </tr>\n",
       "    <tr>\n",
       "      <th>4</th>\n",
       "      <td>s5</td>\n",
       "      <td>TV Show</td>\n",
       "      <td>Kota Factory</td>\n",
       "      <td>NaN</td>\n",
       "      <td>Mayur More, Jitendra Kumar, Ranjan Raj, Alam K...</td>\n",
       "      <td>India</td>\n",
       "      <td>September 24, 2021</td>\n",
       "      <td>2021</td>\n",
       "      <td>TV-MA</td>\n",
       "      <td>2 Seasons</td>\n",
       "      <td>International TV Shows, Romantic TV Shows, TV ...</td>\n",
       "      <td>In a city of coaching centers known to train I...</td>\n",
       "    </tr>\n",
       "  </tbody>\n",
       "</table>\n",
       "</div>"
      ],
      "text/plain": [
       "  show_id     type                  title         director  \\\n",
       "0      s1    Movie   Dick Johnson Is Dead  Kirsten Johnson   \n",
       "1      s2  TV Show          Blood & Water              NaN   \n",
       "2      s3  TV Show              Ganglands  Julien Leclercq   \n",
       "3      s4  TV Show  Jailbirds New Orleans              NaN   \n",
       "4      s5  TV Show           Kota Factory              NaN   \n",
       "\n",
       "                                                cast        country  \\\n",
       "0                                                NaN  United States   \n",
       "1  Ama Qamata, Khosi Ngema, Gail Mabalane, Thaban...   South Africa   \n",
       "2  Sami Bouajila, Tracy Gotoas, Samuel Jouy, Nabi...            NaN   \n",
       "3                                                NaN            NaN   \n",
       "4  Mayur More, Jitendra Kumar, Ranjan Raj, Alam K...          India   \n",
       "\n",
       "           date_added  release_year rating   duration  \\\n",
       "0  September 25, 2021          2020  PG-13     90 min   \n",
       "1  September 24, 2021          2021  TV-MA  2 Seasons   \n",
       "2  September 24, 2021          2021  TV-MA   1 Season   \n",
       "3  September 24, 2021          2021  TV-MA   1 Season   \n",
       "4  September 24, 2021          2021  TV-MA  2 Seasons   \n",
       "\n",
       "                                           listed_in  \\\n",
       "0                                      Documentaries   \n",
       "1    International TV Shows, TV Dramas, TV Mysteries   \n",
       "2  Crime TV Shows, International TV Shows, TV Act...   \n",
       "3                             Docuseries, Reality TV   \n",
       "4  International TV Shows, Romantic TV Shows, TV ...   \n",
       "\n",
       "                                         description  \n",
       "0  As her father nears the end of his life, filmm...  \n",
       "1  After crossing paths at a party, a Cape Town t...  \n",
       "2  To protect his family from a powerful drug lor...  \n",
       "3  Feuds, flirtations and toilet talk go down amo...  \n",
       "4  In a city of coaching centers known to train I...  "
      ]
     },
     "execution_count": 9,
     "metadata": {},
     "output_type": "execute_result"
    }
   ],
   "source": [
    "OTT.head()"
   ]
  },
  {
   "cell_type": "markdown",
   "id": "587cd245",
   "metadata": {
    "papermill": {
     "duration": 0.020656,
     "end_time": "2024-01-19T16:21:30.392591",
     "exception": false,
     "start_time": "2024-01-19T16:21:30.371935",
     "status": "completed"
    },
    "tags": []
   },
   "source": [
    "* now let's handle missing values(7) of rating"
   ]
  },
  {
   "cell_type": "code",
   "execution_count": 10,
   "id": "0a8f82cc",
   "metadata": {
    "execution": {
     "iopub.execute_input": "2024-01-19T16:21:30.436845Z",
     "iopub.status.busy": "2024-01-19T16:21:30.436046Z",
     "iopub.status.idle": "2024-01-19T16:21:30.443409Z",
     "shell.execute_reply": "2024-01-19T16:21:30.442427Z"
    },
    "papermill": {
     "duration": 0.032138,
     "end_time": "2024-01-19T16:21:30.445742",
     "exception": false,
     "start_time": "2024-01-19T16:21:30.413604",
     "status": "completed"
    },
    "tags": []
   },
   "outputs": [
    {
     "data": {
      "text/plain": [
       "array(['PG-13', 'TV-MA', 'PG', 'TV-14', 'TV-PG', 'TV-Y', 'TV-Y7', 'R',\n",
       "       'TV-G', 'G', 'NC-17', '74 min', '84 min', '66 min', 'NR', nan,\n",
       "       'TV-Y7-FV', 'UR'], dtype=object)"
      ]
     },
     "execution_count": 10,
     "metadata": {},
     "output_type": "execute_result"
    }
   ],
   "source": [
    "OTT['rating'].unique()"
   ]
  },
  {
   "cell_type": "code",
   "execution_count": 11,
   "id": "691aeed3",
   "metadata": {
    "execution": {
     "iopub.execute_input": "2024-01-19T16:21:30.491062Z",
     "iopub.status.busy": "2024-01-19T16:21:30.490025Z",
     "iopub.status.idle": "2024-01-19T16:21:30.509920Z",
     "shell.execute_reply": "2024-01-19T16:21:30.509113Z"
    },
    "papermill": {
     "duration": 0.045076,
     "end_time": "2024-01-19T16:21:30.512220",
     "exception": false,
     "start_time": "2024-01-19T16:21:30.467144",
     "status": "completed"
    },
    "tags": []
   },
   "outputs": [
    {
     "data": {
      "text/html": [
       "<div>\n",
       "<style scoped>\n",
       "    .dataframe tbody tr th:only-of-type {\n",
       "        vertical-align: middle;\n",
       "    }\n",
       "\n",
       "    .dataframe tbody tr th {\n",
       "        vertical-align: top;\n",
       "    }\n",
       "\n",
       "    .dataframe thead th {\n",
       "        text-align: right;\n",
       "    }\n",
       "</style>\n",
       "<table border=\"1\" class=\"dataframe\">\n",
       "  <thead>\n",
       "    <tr style=\"text-align: right;\">\n",
       "      <th></th>\n",
       "      <th>show_id</th>\n",
       "      <th>type</th>\n",
       "      <th>title</th>\n",
       "      <th>director</th>\n",
       "      <th>cast</th>\n",
       "      <th>country</th>\n",
       "      <th>date_added</th>\n",
       "      <th>release_year</th>\n",
       "      <th>rating</th>\n",
       "      <th>duration</th>\n",
       "      <th>listed_in</th>\n",
       "      <th>description</th>\n",
       "    </tr>\n",
       "  </thead>\n",
       "  <tbody>\n",
       "    <tr>\n",
       "      <th>5989</th>\n",
       "      <td>s5990</td>\n",
       "      <td>Movie</td>\n",
       "      <td>13TH: A Conversation with Oprah Winfrey &amp; Ava ...</td>\n",
       "      <td>NaN</td>\n",
       "      <td>Oprah Winfrey, Ava DuVernay</td>\n",
       "      <td>NaN</td>\n",
       "      <td>January 26, 2017</td>\n",
       "      <td>2017</td>\n",
       "      <td>NaN</td>\n",
       "      <td>37 min</td>\n",
       "      <td>Movies</td>\n",
       "      <td>Oprah Winfrey sits down with director Ava DuVe...</td>\n",
       "    </tr>\n",
       "    <tr>\n",
       "      <th>6827</th>\n",
       "      <td>s6828</td>\n",
       "      <td>TV Show</td>\n",
       "      <td>Gargantia on the Verdurous Planet</td>\n",
       "      <td>NaN</td>\n",
       "      <td>Kaito Ishikawa, Hisako Kanemoto, Ai Kayano, Ka...</td>\n",
       "      <td>Japan</td>\n",
       "      <td>December 1, 2016</td>\n",
       "      <td>2013</td>\n",
       "      <td>NaN</td>\n",
       "      <td>1 Season</td>\n",
       "      <td>Anime Series, International TV Shows</td>\n",
       "      <td>After falling through a wormhole, a space-dwel...</td>\n",
       "    </tr>\n",
       "    <tr>\n",
       "      <th>7312</th>\n",
       "      <td>s7313</td>\n",
       "      <td>TV Show</td>\n",
       "      <td>Little Lunch</td>\n",
       "      <td>NaN</td>\n",
       "      <td>Flynn Curry, Olivia Deeble, Madison Lu, Oisín ...</td>\n",
       "      <td>Australia</td>\n",
       "      <td>February 1, 2018</td>\n",
       "      <td>2015</td>\n",
       "      <td>NaN</td>\n",
       "      <td>1 Season</td>\n",
       "      <td>Kids' TV, TV Comedies</td>\n",
       "      <td>Adopting a child's perspective, this show take...</td>\n",
       "    </tr>\n",
       "    <tr>\n",
       "      <th>7537</th>\n",
       "      <td>s7538</td>\n",
       "      <td>Movie</td>\n",
       "      <td>My Honor Was Loyalty</td>\n",
       "      <td>Alessandro Pepe</td>\n",
       "      <td>Leone Frisa, Paolo Vaccarino, Francesco Miglio...</td>\n",
       "      <td>Italy</td>\n",
       "      <td>March 1, 2017</td>\n",
       "      <td>2015</td>\n",
       "      <td>NaN</td>\n",
       "      <td>115 min</td>\n",
       "      <td>Dramas</td>\n",
       "      <td>Amid the chaos and horror of World War II, a c...</td>\n",
       "    </tr>\n",
       "  </tbody>\n",
       "</table>\n",
       "</div>"
      ],
      "text/plain": [
       "     show_id     type                                              title  \\\n",
       "5989   s5990    Movie  13TH: A Conversation with Oprah Winfrey & Ava ...   \n",
       "6827   s6828  TV Show                  Gargantia on the Verdurous Planet   \n",
       "7312   s7313  TV Show                                       Little Lunch   \n",
       "7537   s7538    Movie                               My Honor Was Loyalty   \n",
       "\n",
       "             director                                               cast  \\\n",
       "5989              NaN                        Oprah Winfrey, Ava DuVernay   \n",
       "6827              NaN  Kaito Ishikawa, Hisako Kanemoto, Ai Kayano, Ka...   \n",
       "7312              NaN  Flynn Curry, Olivia Deeble, Madison Lu, Oisín ...   \n",
       "7537  Alessandro Pepe  Leone Frisa, Paolo Vaccarino, Francesco Miglio...   \n",
       "\n",
       "        country        date_added  release_year rating  duration  \\\n",
       "5989        NaN  January 26, 2017          2017    NaN    37 min   \n",
       "6827      Japan  December 1, 2016          2013    NaN  1 Season   \n",
       "7312  Australia  February 1, 2018          2015    NaN  1 Season   \n",
       "7537      Italy     March 1, 2017          2015    NaN   115 min   \n",
       "\n",
       "                                 listed_in  \\\n",
       "5989                                Movies   \n",
       "6827  Anime Series, International TV Shows   \n",
       "7312                 Kids' TV, TV Comedies   \n",
       "7537                                Dramas   \n",
       "\n",
       "                                            description  \n",
       "5989  Oprah Winfrey sits down with director Ava DuVe...  \n",
       "6827  After falling through a wormhole, a space-dwel...  \n",
       "7312  Adopting a child's perspective, this show take...  \n",
       "7537  Amid the chaos and horror of World War II, a c...  "
      ]
     },
     "execution_count": 11,
     "metadata": {},
     "output_type": "execute_result"
    }
   ],
   "source": [
    "OTT[OTT['rating'].isna()]"
   ]
  },
  {
   "cell_type": "markdown",
   "id": "cc2feab5",
   "metadata": {
    "papermill": {
     "duration": 0.021439,
     "end_time": "2024-01-19T16:21:30.555262",
     "exception": false,
     "start_time": "2024-01-19T16:21:30.533823",
     "status": "completed"
    },
    "tags": []
   },
   "source": [
    "we can find missing values from internet and replace them"
   ]
  },
  {
   "cell_type": "code",
   "execution_count": 12,
   "id": "756bd349",
   "metadata": {
    "execution": {
     "iopub.execute_input": "2024-01-19T16:21:30.600799Z",
     "iopub.status.busy": "2024-01-19T16:21:30.600119Z",
     "iopub.status.idle": "2024-01-19T16:21:30.608202Z",
     "shell.execute_reply": "2024-01-19T16:21:30.607405Z"
    },
    "papermill": {
     "duration": 0.03374,
     "end_time": "2024-01-19T16:21:30.610783",
     "exception": false,
     "start_time": "2024-01-19T16:21:30.577043",
     "status": "completed"
    },
    "tags": []
   },
   "outputs": [],
   "source": [
    "rating_replacement = {\n",
    "    5889 : 'TV-14',\n",
    "    6827 : 'TV-14',\n",
    "    7312 : 'PG-13',\n",
    "    7537 : 'TV-Y'\n",
    "}\n",
    "\n",
    "for id, rating in rating_replacement.items():\n",
    "    OTT.iloc[id, 8] = rating\n"
   ]
  },
  {
   "cell_type": "markdown",
   "id": "803531b8",
   "metadata": {
    "papermill": {
     "duration": 0.022001,
     "end_time": "2024-01-19T16:21:30.654529",
     "exception": false,
     "start_time": "2024-01-19T16:21:30.632528",
     "status": "completed"
    },
    "tags": []
   },
   "source": [
    "* director: i think its not needed to handle missing values \n",
    "* cast: this var has too many diferent values too so there is no muich information out there to handle\n",
    "* country: we can impute mode values but missing values is high so avoid it here"
   ]
  },
  {
   "cell_type": "markdown",
   "id": "774be021",
   "metadata": {
    "papermill": {
     "duration": 0.021389,
     "end_time": "2024-01-19T16:21:30.697675",
     "exception": false,
     "start_time": "2024-01-19T16:21:30.676286",
     "status": "completed"
    },
    "tags": []
   },
   "source": [
    "* Before starting working with date related columns we need to transform them "
   ]
  },
  {
   "cell_type": "markdown",
   "id": "31048d63",
   "metadata": {
    "papermill": {
     "duration": 0.02218,
     "end_time": "2024-01-19T16:21:30.741726",
     "exception": false,
     "start_time": "2024-01-19T16:21:30.719546",
     "status": "completed"
    },
    "tags": []
   },
   "source": [
    "#### now let's modify some of features and it's datatype"
   ]
  },
  {
   "cell_type": "code",
   "execution_count": 13,
   "id": "c1eabed2",
   "metadata": {
    "execution": {
     "iopub.execute_input": "2024-01-19T16:21:30.786827Z",
     "iopub.status.busy": "2024-01-19T16:21:30.786414Z",
     "iopub.status.idle": "2024-01-19T16:21:30.909078Z",
     "shell.execute_reply": "2024-01-19T16:21:30.907900Z"
    },
    "papermill": {
     "duration": 0.150592,
     "end_time": "2024-01-19T16:21:30.914227",
     "exception": false,
     "start_time": "2024-01-19T16:21:30.763635",
     "status": "completed"
    },
    "tags": []
   },
   "outputs": [
    {
     "name": "stdout",
     "output_type": "stream",
     "text": [
      "<class 'pandas.core.frame.DataFrame'>\n",
      "Index: 8797 entries, 0 to 8806\n",
      "Data columns (total 12 columns):\n",
      " #   Column        Non-Null Count  Dtype \n",
      "---  ------        --------------  ----- \n",
      " 0   show_id       8797 non-null   object\n",
      " 1   type          8797 non-null   object\n",
      " 2   title         8797 non-null   object\n",
      " 3   director      6173 non-null   object\n",
      " 4   cast          7972 non-null   object\n",
      " 5   country       7967 non-null   object\n",
      " 6   date_added    8797 non-null   object\n",
      " 7   release_year  8797 non-null   int64 \n",
      " 8   rating        8793 non-null   object\n",
      " 9   duration      8794 non-null   object\n",
      " 10  listed_in     8797 non-null   object\n",
      " 11  description   8797 non-null   object\n",
      "dtypes: int64(1), object(11)\n",
      "memory usage: 893.4+ KB\n"
     ]
    }
   ],
   "source": [
    "OTT.info()"
   ]
  },
  {
   "cell_type": "code",
   "execution_count": 14,
   "id": "2341c52e",
   "metadata": {
    "execution": {
     "iopub.execute_input": "2024-01-19T16:21:30.959646Z",
     "iopub.status.busy": "2024-01-19T16:21:30.959223Z",
     "iopub.status.idle": "2024-01-19T16:21:30.978976Z",
     "shell.execute_reply": "2024-01-19T16:21:30.977766Z"
    },
    "papermill": {
     "duration": 0.045002,
     "end_time": "2024-01-19T16:21:30.981282",
     "exception": false,
     "start_time": "2024-01-19T16:21:30.936280",
     "status": "completed"
    },
    "tags": []
   },
   "outputs": [],
   "source": [
    "OTT['year_added'] = OTT['date_added'].apply(lambda x : x.split(', ')[-1])\n",
    "OTT['month_added'] = OTT['date_added'].apply(lambda x : x.split(' ')[0])\n",
    "#OTT['year_added'].head()\n",
    "#OTT['month_added'].head()"
   ]
  },
  {
   "cell_type": "code",
   "execution_count": 15,
   "id": "0ff95841",
   "metadata": {
    "execution": {
     "iopub.execute_input": "2024-01-19T16:21:31.027490Z",
     "iopub.status.busy": "2024-01-19T16:21:31.027084Z",
     "iopub.status.idle": "2024-01-19T16:21:31.308548Z",
     "shell.execute_reply": "2024-01-19T16:21:31.307392Z"
    },
    "papermill": {
     "duration": 0.307167,
     "end_time": "2024-01-19T16:21:31.310914",
     "exception": false,
     "start_time": "2024-01-19T16:21:31.003747",
     "status": "completed"
    },
    "tags": []
   },
   "outputs": [
    {
     "data": {
      "text/html": [
       "<div>\n",
       "<style scoped>\n",
       "    .dataframe tbody tr th:only-of-type {\n",
       "        vertical-align: middle;\n",
       "    }\n",
       "\n",
       "    .dataframe tbody tr th {\n",
       "        vertical-align: top;\n",
       "    }\n",
       "\n",
       "    .dataframe thead th {\n",
       "        text-align: right;\n",
       "    }\n",
       "</style>\n",
       "<table border=\"1\" class=\"dataframe\">\n",
       "  <thead>\n",
       "    <tr style=\"text-align: right;\">\n",
       "      <th></th>\n",
       "      <th>show_id</th>\n",
       "      <th>type</th>\n",
       "      <th>title</th>\n",
       "      <th>director</th>\n",
       "      <th>cast</th>\n",
       "      <th>country</th>\n",
       "      <th>date_added</th>\n",
       "      <th>release_year</th>\n",
       "      <th>rating</th>\n",
       "      <th>duration</th>\n",
       "      <th>listed_in</th>\n",
       "      <th>description</th>\n",
       "      <th>year_added</th>\n",
       "      <th>month_added</th>\n",
       "      <th>season_count</th>\n",
       "    </tr>\n",
       "  </thead>\n",
       "  <tbody>\n",
       "    <tr>\n",
       "      <th>0</th>\n",
       "      <td>s1</td>\n",
       "      <td>Movie</td>\n",
       "      <td>Dick Johnson Is Dead</td>\n",
       "      <td>Kirsten Johnson</td>\n",
       "      <td>NaN</td>\n",
       "      <td>United States</td>\n",
       "      <td>September 25, 2021</td>\n",
       "      <td>2020</td>\n",
       "      <td>PG-13</td>\n",
       "      <td>90</td>\n",
       "      <td>Documentaries</td>\n",
       "      <td>As her father nears the end of his life, filmm...</td>\n",
       "      <td>2021</td>\n",
       "      <td>September</td>\n",
       "      <td></td>\n",
       "    </tr>\n",
       "    <tr>\n",
       "      <th>1</th>\n",
       "      <td>s2</td>\n",
       "      <td>TV Show</td>\n",
       "      <td>Blood &amp; Water</td>\n",
       "      <td>NaN</td>\n",
       "      <td>Ama Qamata, Khosi Ngema, Gail Mabalane, Thaban...</td>\n",
       "      <td>South Africa</td>\n",
       "      <td>September 24, 2021</td>\n",
       "      <td>2021</td>\n",
       "      <td>TV-MA</td>\n",
       "      <td></td>\n",
       "      <td>International TV Shows, TV Dramas, TV Mysteries</td>\n",
       "      <td>After crossing paths at a party, a Cape Town t...</td>\n",
       "      <td>2021</td>\n",
       "      <td>September</td>\n",
       "      <td>2</td>\n",
       "    </tr>\n",
       "    <tr>\n",
       "      <th>2</th>\n",
       "      <td>s3</td>\n",
       "      <td>TV Show</td>\n",
       "      <td>Ganglands</td>\n",
       "      <td>Julien Leclercq</td>\n",
       "      <td>Sami Bouajila, Tracy Gotoas, Samuel Jouy, Nabi...</td>\n",
       "      <td>NaN</td>\n",
       "      <td>September 24, 2021</td>\n",
       "      <td>2021</td>\n",
       "      <td>TV-MA</td>\n",
       "      <td></td>\n",
       "      <td>Crime TV Shows, International TV Shows, TV Act...</td>\n",
       "      <td>To protect his family from a powerful drug lor...</td>\n",
       "      <td>2021</td>\n",
       "      <td>September</td>\n",
       "      <td>1</td>\n",
       "    </tr>\n",
       "    <tr>\n",
       "      <th>3</th>\n",
       "      <td>s4</td>\n",
       "      <td>TV Show</td>\n",
       "      <td>Jailbirds New Orleans</td>\n",
       "      <td>NaN</td>\n",
       "      <td>NaN</td>\n",
       "      <td>NaN</td>\n",
       "      <td>September 24, 2021</td>\n",
       "      <td>2021</td>\n",
       "      <td>TV-MA</td>\n",
       "      <td></td>\n",
       "      <td>Docuseries, Reality TV</td>\n",
       "      <td>Feuds, flirtations and toilet talk go down amo...</td>\n",
       "      <td>2021</td>\n",
       "      <td>September</td>\n",
       "      <td>1</td>\n",
       "    </tr>\n",
       "    <tr>\n",
       "      <th>4</th>\n",
       "      <td>s5</td>\n",
       "      <td>TV Show</td>\n",
       "      <td>Kota Factory</td>\n",
       "      <td>NaN</td>\n",
       "      <td>Mayur More, Jitendra Kumar, Ranjan Raj, Alam K...</td>\n",
       "      <td>India</td>\n",
       "      <td>September 24, 2021</td>\n",
       "      <td>2021</td>\n",
       "      <td>TV-MA</td>\n",
       "      <td></td>\n",
       "      <td>International TV Shows, Romantic TV Shows, TV ...</td>\n",
       "      <td>In a city of coaching centers known to train I...</td>\n",
       "      <td>2021</td>\n",
       "      <td>September</td>\n",
       "      <td>2</td>\n",
       "    </tr>\n",
       "  </tbody>\n",
       "</table>\n",
       "</div>"
      ],
      "text/plain": [
       "  show_id     type                  title         director  \\\n",
       "0      s1    Movie   Dick Johnson Is Dead  Kirsten Johnson   \n",
       "1      s2  TV Show          Blood & Water              NaN   \n",
       "2      s3  TV Show              Ganglands  Julien Leclercq   \n",
       "3      s4  TV Show  Jailbirds New Orleans              NaN   \n",
       "4      s5  TV Show           Kota Factory              NaN   \n",
       "\n",
       "                                                cast        country  \\\n",
       "0                                                NaN  United States   \n",
       "1  Ama Qamata, Khosi Ngema, Gail Mabalane, Thaban...   South Africa   \n",
       "2  Sami Bouajila, Tracy Gotoas, Samuel Jouy, Nabi...            NaN   \n",
       "3                                                NaN            NaN   \n",
       "4  Mayur More, Jitendra Kumar, Ranjan Raj, Alam K...          India   \n",
       "\n",
       "           date_added  release_year rating duration  \\\n",
       "0  September 25, 2021          2020  PG-13       90   \n",
       "1  September 24, 2021          2021  TV-MA            \n",
       "2  September 24, 2021          2021  TV-MA            \n",
       "3  September 24, 2021          2021  TV-MA            \n",
       "4  September 24, 2021          2021  TV-MA            \n",
       "\n",
       "                                           listed_in  \\\n",
       "0                                      Documentaries   \n",
       "1    International TV Shows, TV Dramas, TV Mysteries   \n",
       "2  Crime TV Shows, International TV Shows, TV Act...   \n",
       "3                             Docuseries, Reality TV   \n",
       "4  International TV Shows, Romantic TV Shows, TV ...   \n",
       "\n",
       "                                         description year_added month_added  \\\n",
       "0  As her father nears the end of his life, filmm...       2021   September   \n",
       "1  After crossing paths at a party, a Cape Town t...       2021   September   \n",
       "2  To protect his family from a powerful drug lor...       2021   September   \n",
       "3  Feuds, flirtations and toilet talk go down amo...       2021   September   \n",
       "4  In a city of coaching centers known to train I...       2021   September   \n",
       "\n",
       "  season_count  \n",
       "0               \n",
       "1            2  \n",
       "2            1  \n",
       "3            1  \n",
       "4            2  "
      ]
     },
     "execution_count": 15,
     "metadata": {},
     "output_type": "execute_result"
    }
   ],
   "source": [
    "OTT['season_count'] = OTT.apply(lambda x :str(x['duration']).split(\" \")[0] if \"Season\" in str(x['duration']) else \"\", axis = 1)\n",
    "OTT['duration'] = OTT.apply(lambda x : str(x['duration']).split(\" \")[0] if \"Season\" not in str(x['duration']) else \"\", axis = 1)\n",
    "OTT.head()"
   ]
  },
  {
   "cell_type": "code",
   "execution_count": 16,
   "id": "acc78604",
   "metadata": {
    "execution": {
     "iopub.execute_input": "2024-01-19T16:21:31.357100Z",
     "iopub.status.busy": "2024-01-19T16:21:31.356659Z",
     "iopub.status.idle": "2024-01-19T16:21:31.364747Z",
     "shell.execute_reply": "2024-01-19T16:21:31.363610Z"
    },
    "papermill": {
     "duration": 0.033996,
     "end_time": "2024-01-19T16:21:31.367082",
     "exception": false,
     "start_time": "2024-01-19T16:21:31.333086",
     "status": "completed"
    },
    "tags": []
   },
   "outputs": [
    {
     "data": {
      "text/plain": [
       "show_id         object\n",
       "type            object\n",
       "title           object\n",
       "director        object\n",
       "cast            object\n",
       "country         object\n",
       "date_added      object\n",
       "release_year     int64\n",
       "rating          object\n",
       "duration        object\n",
       "listed_in       object\n",
       "description     object\n",
       "year_added      object\n",
       "month_added     object\n",
       "season_count    object\n",
       "dtype: object"
      ]
     },
     "execution_count": 16,
     "metadata": {},
     "output_type": "execute_result"
    }
   ],
   "source": [
    "OTT.dtypes"
   ]
  },
  {
   "cell_type": "code",
   "execution_count": 17,
   "id": "a0de5e78",
   "metadata": {
    "execution": {
     "iopub.execute_input": "2024-01-19T16:21:31.414271Z",
     "iopub.status.busy": "2024-01-19T16:21:31.413892Z",
     "iopub.status.idle": "2024-01-19T16:21:31.438833Z",
     "shell.execute_reply": "2024-01-19T16:21:31.437721Z"
    },
    "papermill": {
     "duration": 0.051637,
     "end_time": "2024-01-19T16:21:31.441409",
     "exception": false,
     "start_time": "2024-01-19T16:21:31.389772",
     "status": "completed"
    },
    "tags": []
   },
   "outputs": [],
   "source": [
    "# year_added convert to integer\n",
    "OTT['year_added'] = pd.to_numeric(OTT['year_added'])\n",
    "\n",
    "OTT['duration'] = pd.to_numeric(OTT['duration'], errors='coerce')\n",
    "\n",
    "# type convert to category\n",
    "#OTT['type'] = pd.Categorical(OTT['type'])"
   ]
  },
  {
   "cell_type": "code",
   "execution_count": 18,
   "id": "1c2a9d96",
   "metadata": {
    "execution": {
     "iopub.execute_input": "2024-01-19T16:21:31.488804Z",
     "iopub.status.busy": "2024-01-19T16:21:31.488030Z",
     "iopub.status.idle": "2024-01-19T16:21:31.495652Z",
     "shell.execute_reply": "2024-01-19T16:21:31.494915Z"
    },
    "papermill": {
     "duration": 0.033801,
     "end_time": "2024-01-19T16:21:31.497727",
     "exception": false,
     "start_time": "2024-01-19T16:21:31.463926",
     "status": "completed"
    },
    "tags": []
   },
   "outputs": [
    {
     "data": {
      "text/plain": [
       "show_id          object\n",
       "type             object\n",
       "title            object\n",
       "director         object\n",
       "cast             object\n",
       "country          object\n",
       "date_added       object\n",
       "release_year      int64\n",
       "rating           object\n",
       "duration        float64\n",
       "listed_in        object\n",
       "description      object\n",
       "year_added        int64\n",
       "month_added      object\n",
       "season_count     object\n",
       "dtype: object"
      ]
     },
     "execution_count": 18,
     "metadata": {},
     "output_type": "execute_result"
    }
   ],
   "source": [
    "OTT.dtypes"
   ]
  },
  {
   "cell_type": "markdown",
   "id": "7431a8f3",
   "metadata": {
    "papermill": {
     "duration": 0.022954,
     "end_time": "2024-01-19T16:21:31.543269",
     "exception": false,
     "start_time": "2024-01-19T16:21:31.520315",
     "status": "completed"
    },
    "tags": []
   },
   "source": [
    "# univariate analysis"
   ]
  },
  {
   "cell_type": "markdown",
   "id": "085ecc25",
   "metadata": {
    "papermill": {
     "duration": 0.022446,
     "end_time": "2024-01-19T16:21:31.589186",
     "exception": false,
     "start_time": "2024-01-19T16:21:31.566740",
     "status": "completed"
    },
    "tags": []
   },
   "source": [
    "####  1.Content type on OTT"
   ]
  },
  {
   "cell_type": "code",
   "execution_count": 19,
   "id": "2cb607b3",
   "metadata": {
    "execution": {
     "iopub.execute_input": "2024-01-19T16:21:31.637634Z",
     "iopub.status.busy": "2024-01-19T16:21:31.636866Z",
     "iopub.status.idle": "2024-01-19T16:21:31.812985Z",
     "shell.execute_reply": "2024-01-19T16:21:31.811669Z"
    },
    "papermill": {
     "duration": 0.205577,
     "end_time": "2024-01-19T16:21:31.818213",
     "exception": false,
     "start_time": "2024-01-19T16:21:31.612636",
     "status": "completed"
    },
    "tags": []
   },
   "outputs": [
    {
     "data": {
      "image/png": "[encoded data removed]",
      "text/plain": [
       "<Figure size 400x400 with 1 Axes>"
      ]
     },
     "metadata": {},
     "output_type": "display_data"
    }
   ],
   "source": [
    "type_count = OTT['type'].value_counts()\n",
    "#type_count\n",
    "labels = type_count.index\n",
    "sizes = type_count.values\n",
    "\n",
    "plt.figure(figsize=(4,4))\n",
    "plt.pie(sizes, labels=labels, autopct='%1.1f%%')\n",
    "\n",
    "plt.title('Distribution of \"Movie\" and \"TV show\" in OTT Data')\n",
    "plt.show()"
   ]
  },
  {
   "cell_type": "markdown",
   "id": "34fdabff",
   "metadata": {
    "papermill": {
     "duration": 0.022785,
     "end_time": "2024-01-19T16:21:31.889498",
     "exception": false,
     "start_time": "2024-01-19T16:21:31.866713",
     "status": "completed"
    },
    "tags": []
   },
   "source": [
    "#### 2. Movie rating "
   ]
  },
  {
   "cell_type": "code",
   "execution_count": 20,
   "id": "7170df1c",
   "metadata": {
    "execution": {
     "iopub.execute_input": "2024-01-19T16:21:31.938205Z",
     "iopub.status.busy": "2024-01-19T16:21:31.937771Z",
     "iopub.status.idle": "2024-01-19T16:21:32.496902Z",
     "shell.execute_reply": "2024-01-19T16:21:32.495627Z"
    },
    "papermill": {
     "duration": 0.587239,
     "end_time": "2024-01-19T16:21:32.499762",
     "exception": false,
     "start_time": "2024-01-19T16:21:31.912523",
     "status": "completed"
    },
    "tags": []
   },
   "outputs": [
    {
     "data": {
      "image/png": "[encoded data removed]",
      "text/plain": [
       "<Figure size 1200x1000 with 1 Axes>"
      ]
     },
     "metadata": {},
     "output_type": "display_data"
    }
   ],
   "source": [
    "plt.figure(figsize=(12, 10))\n",
    "sns.set(style = 'darkgrid')\n",
    "ax = sns.countplot(x='rating', data=OTT, order=OTT['rating'].value_counts().index[0:15])"
   ]
  },
  {
   "cell_type": "markdown",
   "id": "62bd370f",
   "metadata": {
    "papermill": {
     "duration": 0.028365,
     "end_time": "2024-01-19T16:21:32.560067",
     "exception": false,
     "start_time": "2024-01-19T16:21:32.531702",
     "status": "completed"
    },
    "tags": []
   },
   "source": [
    "* Most movies are under rating 'TV-MA'. this rating associated with TV parential guidelines to a television program that was designed for mature audience only.\n"
   ]
  },
  {
   "cell_type": "markdown",
   "id": "52562fe4",
   "metadata": {
    "papermill": {
     "duration": 0.023491,
     "end_time": "2024-01-19T16:21:32.607583",
     "exception": false,
     "start_time": "2024-01-19T16:21:32.584092",
     "status": "completed"
    },
    "tags": []
   },
   "source": [
    "#### 3. country\n",
    "\n",
    "let's find out contry with highest no of movies & shows"
   ]
  },
  {
   "cell_type": "code",
   "execution_count": 21,
   "id": "1303de66",
   "metadata": {
    "execution": {
     "iopub.execute_input": "2024-01-19T16:21:32.658390Z",
     "iopub.status.busy": "2024-01-19T16:21:32.657965Z",
     "iopub.status.idle": "2024-01-19T16:21:33.111094Z",
     "shell.execute_reply": "2024-01-19T16:21:33.110093Z"
    },
    "papermill": {
     "duration": 0.48385,
     "end_time": "2024-01-19T16:21:33.115145",
     "exception": false,
     "start_time": "2024-01-19T16:21:32.631295",
     "status": "completed"
    },
    "tags": []
   },
   "outputs": [
    {
     "data": {
      "image/png": "[encoded data removed]",
      "text/plain": [
       "<Figure size 1000x600 with 1 Axes>"
      ]
     },
     "metadata": {},
     "output_type": "display_data"
    }
   ],
   "source": [
    "country_count = OTT['country'].value_counts()[:11]\n",
    "\n",
    "country_count.plot(kind='bar', figsize=(10,6))\n",
    "\n",
    "plt.title('Top country with highest number ogf movies & shows')\n",
    "plt.show()"
   ]
  },
  {
   "cell_type": "markdown",
   "id": "289054b9",
   "metadata": {
    "papermill": {
     "duration": 0.024449,
     "end_time": "2024-01-19T16:21:33.165683",
     "exception": false,
     "start_time": "2024-01-19T16:21:33.141234",
     "status": "completed"
    },
    "tags": []
   },
   "source": [
    "#### 4. distribution of content realesed\n"
   ]
  },
  {
   "cell_type": "code",
   "execution_count": 22,
   "id": "a25c4f4c",
   "metadata": {
    "execution": {
     "iopub.execute_input": "2024-01-19T16:21:33.218522Z",
     "iopub.status.busy": "2024-01-19T16:21:33.217552Z",
     "iopub.status.idle": "2024-01-19T16:21:33.487532Z",
     "shell.execute_reply": "2024-01-19T16:21:33.486363Z"
    },
    "papermill": {
     "duration": 0.299434,
     "end_time": "2024-01-19T16:21:33.490187",
     "exception": false,
     "start_time": "2024-01-19T16:21:33.190753",
     "status": "completed"
    },
    "tags": []
   },
   "outputs": [
    {
     "data": {
      "text/html": [
       "        <script type=\"text/javascript\">\n",
       "        window.PlotlyConfig = {MathJaxConfig: 'local'};\n",
       "        if (window.MathJax && window.MathJax.Hub && window.MathJax.Hub.Config) {window.MathJax.Hub.Config({SVG: {font: \"STIX-Web\"}});}\n",
       "        if (typeof require !== 'undefined') {\n",
       "        require.undef(\"plotly\");\n",
       "        requirejs.config({\n",
       "            paths: {\n",
       "                'plotly': ['https://cdn.plot.ly/plotly-2.25.2.min']\n",
       "            }\n",
       "        });\n",
       "        require(['plotly'], function(Plotly) {\n",
       "            window._Plotly = Plotly;\n",
       "        });\n",
       "        }\n",
       "        </script>\n",
       "        "
      ]
     },
     "metadata": {},
     "output_type": "display_data"
    },
    {
     "data": {
      "text/html": [
       "<div>                            <div id=\"9581113f-05a0-489e-8540-1f8bf456be7e\" class=\"plotly-graph-div\" style=\"height:525px; width:100%;\"></div>            <script type=\"text/javascript\">                require([\"plotly\"], function(Plotly) {                    window.PLOTLYENV=window.PLOTLYENV || {};                                    if (document.getElementById(\"9581113f-05a0-489e-8540-1f8bf456be7e\")) {                    Plotly.newPlot(                        \"9581113f-05a0-489e-8540-1f8bf456be7e\",                        [{\"marker\":{\"color\":\"green\"},\"mode\":\"lines+markers\",\"name\":\"Movie: Released Year\",\"x\":[2011,2012,2013,2014,2015,2016,2017,2018,2019,2020,2021],\"y\":[145,173,225,264,398,658,767,767,633,517,277],\"type\":\"scatter\"},{\"marker\":{\"color\":\"darkgreen\"},\"mode\":\"lines+markers\",\"name\":\"TV Show: Released Year\",\"x\":[2011,2012,2013,2014,2015,2016,2017,2018,2019,2020,2021],\"y\":[40,63,62,88,160,243,265,379,397,436,315],\"type\":\"scatter\"},{\"marker\":{\"color\":\"orange\"},\"mode\":\"lines+markers\",\"name\":\"Movie: Year Added\",\"x\":[2011,2012,2013,2014,2015,2016,2017,2018,2019,2020,2021],\"y\":[13,3,6,19,56,253,839,1237,1424,1284,993],\"type\":\"scatter\"},{\"marker\":{\"color\":\"darkorange\"},\"mode\":\"lines+markers\",\"name\":\"TV Show: Year Added\",\"x\":[2013,2014,2015,2016,2017,2018,2019,2020,2021],\"y\":[5,5,26,176,349,412,592,595,505],\"type\":\"scatter\"}],                        {\"template\":{\"data\":{\"histogram2dcontour\":[{\"type\":\"histogram2dcontour\",\"colorbar\":{\"outlinewidth\":0,\"ticks\":\"\"},\"colorscale\":[[0.0,\"#0d0887\"],[0.1111111111111111,\"#46039f\"],[0.2222222222222222,\"#7201a8\"],[0.3333333333333333,\"#9c179e\"],[0.4444444444444444,\"#bd3786\"],[0.5555555555555556,\"#d8576b\"],[0.6666666666666666,\"#ed7953\"],[0.7777777777777778,\"#fb9f3a\"],[0.8888888888888888,\"#fdca26\"],[1.0,\"#f0f921\"]]}],\"choropleth\":[{\"type\":\"choropleth\",\"colorbar\":{\"outlinewidth\":0,\"ticks\":\"\"}}],\"histogram2d\":[{\"type\":\"histogram2d\",\"colorbar\":{\"outlinewidth\":0,\"ticks\":\"\"},\"colorscale\":[[0.0,\"#0d0887\"],[0.1111111111111111,\"#46039f\"],[0.2222222222222222,\"#7201a8\"],[0.3333333333333333,\"#9c179e\"],[0.4444444444444444,\"#bd3786\"],[0.5555555555555556,\"#d8576b\"],[0.6666666666666666,\"#ed7953\"],[0.7777777777777778,\"#fb9f3a\"],[0.8888888888888888,\"#fdca26\"],[1.0,\"#f0f921\"]]}],\"heatmap\":[{\"type\":\"heatmap\",\"colorbar\":{\"outlinewidth\":0,\"ticks\":\"\"},\"colorscale\":[[0.0,\"#0d0887\"],[0.1111111111111111,\"#46039f\"],[0.2222222222222222,\"#7201a8\"],[0.3333333333333333,\"#9c179e\"],[0.4444444444444444,\"#bd3786\"],[0.5555555555555556,\"#d8576b\"],[0.6666666666666666,\"#ed7953\"],[0.7777777777777778,\"#fb9f3a\"],[0.8888888888888888,\"#fdca26\"],[1.0,\"#f0f921\"]]}],\"heatmapgl\":[{\"type\":\"heatmapgl\",\"colorbar\":{\"outlinewidth\":0,\"ticks\":\"\"},\"colorscale\":[[0.0,\"#0d0887\"],[0.1111111111111111,\"#46039f\"],[0.2222222222222222,\"#7201a8\"],[0.3333333333333333,\"#9c179e\"],[0.4444444444444444,\"#bd3786\"],[0.5555555555555556,\"#d8576b\"],[0.6666666666666666,\"#ed7953\"],[0.7777777777777778,\"#fb9f3a\"],[0.8888888888888888,\"#fdca26\"],[1.0,\"#f0f921\"]]}],\"contourcarpet\":[{\"type\":\"contourcarpet\",\"colorbar\":{\"outlinewidth\":0,\"ticks\":\"\"}}],\"contour\":[{\"type\":\"contour\",\"colorbar\":{\"outlinewidth\":0,\"ticks\":\"\"},\"colorscale\":[[0.0,\"#0d0887\"],[0.1111111111111111,\"#46039f\"],[0.2222222222222222,\"#7201a8\"],[0.3333333333333333,\"#9c179e\"],[0.4444444444444444,\"#bd3786\"],[0.5555555555555556,\"#d8576b\"],[0.6666666666666666,\"#ed7953\"],[0.7777777777777778,\"#fb9f3a\"],[0.8888888888888888,\"#fdca26\"],[1.0,\"#f0f921\"]]}],\"surface\":[{\"type\":\"surface\",\"colorbar\":{\"outlinewidth\":0,\"ticks\":\"\"},\"colorscale\":[[0.0,\"#0d0887\"],[0.1111111111111111,\"#46039f\"],[0.2222222222222222,\"#7201a8\"],[0.3333333333333333,\"#9c179e\"],[0.4444444444444444,\"#bd3786\"],[0.5555555555555556,\"#d8576b\"],[0.6666666666666666,\"#ed7953\"],[0.7777777777777778,\"#fb9f3a\"],[0.8888888888888888,\"#fdca26\"],[1.0,\"#f0f921\"]]}],\"mesh3d\":[{\"type\":\"mesh3d\",\"colorbar\":{\"outlinewidth\":0,\"ticks\":\"\"}}],\"scatter\":[{\"fillpattern\":{\"fillmode\":\"overlay\",\"size\":10,\"solidity\":0.2},\"type\":\"scatter\"}],\"parcoords\":[{\"type\":\"parcoords\",\"line\":{\"colorbar\":{\"outlinewidth\":0,\"ticks\":\"\"}}}],\"scatterpolargl\":[{\"type\":\"scatterpolargl\",\"marker\":{\"colorbar\":{\"outlinewidth\":0,\"ticks\":\"\"}}}],\"bar\":[{\"error_x\":{\"color\":\"#2a3f5f\"},\"error_y\":{\"color\":\"#2a3f5f\"},\"marker\":{\"line\":{\"color\":\"#E5ECF6\",\"width\":0.5},\"pattern\":{\"fillmode\":\"overlay\",\"size\":10,\"solidity\":0.2}},\"type\":\"bar\"}],\"scattergeo\":[{\"type\":\"scattergeo\",\"marker\":{\"colorbar\":{\"outlinewidth\":0,\"ticks\":\"\"}}}],\"scatterpolar\":[{\"type\":\"scatterpolar\",\"marker\":{\"colorbar\":{\"outlinewidth\":0,\"ticks\":\"\"}}}],\"histogram\":[{\"marker\":{\"pattern\":{\"fillmode\":\"overlay\",\"size\":10,\"solidity\":0.2}},\"type\":\"histogram\"}],\"scattergl\":[{\"type\":\"scattergl\",\"marker\":{\"colorbar\":{\"outlinewidth\":0,\"ticks\":\"\"}}}],\"scatter3d\":[{\"type\":\"scatter3d\",\"line\":{\"colorbar\":{\"outlinewidth\":0,\"ticks\":\"\"}},\"marker\":{\"colorbar\":{\"outlinewidth\":0,\"ticks\":\"\"}}}],\"scattermapbox\":[{\"type\":\"scattermapbox\",\"marker\":{\"colorbar\":{\"outlinewidth\":0,\"ticks\":\"\"}}}],\"scatterternary\":[{\"type\":\"scatterternary\",\"marker\":{\"colorbar\":{\"outlinewidth\":0,\"ticks\":\"\"}}}],\"scattercarpet\":[{\"type\":\"scattercarpet\",\"marker\":{\"colorbar\":{\"outlinewidth\":0,\"ticks\":\"\"}}}],\"carpet\":[{\"aaxis\":{\"endlinecolor\":\"#2a3f5f\",\"gridcolor\":\"white\",\"linecolor\":\"white\",\"minorgridcolor\":\"white\",\"startlinecolor\":\"#2a3f5f\"},\"baxis\":{\"endlinecolor\":\"#2a3f5f\",\"gridcolor\":\"white\",\"linecolor\":\"white\",\"minorgridcolor\":\"white\",\"startlinecolor\":\"#2a3f5f\"},\"type\":\"carpet\"}],\"table\":[{\"cells\":{\"fill\":{\"color\":\"#EBF0F8\"},\"line\":{\"color\":\"white\"}},\"header\":{\"fill\":{\"color\":\"#C8D4E3\"},\"line\":{\"color\":\"white\"}},\"type\":\"table\"}],\"barpolar\":[{\"marker\":{\"line\":{\"color\":\"#E5ECF6\",\"width\":0.5},\"pattern\":{\"fillmode\":\"overlay\",\"size\":10,\"solidity\":0.2}},\"type\":\"barpolar\"}],\"pie\":[{\"automargin\":true,\"type\":\"pie\"}]},\"layout\":{\"autotypenumbers\":\"strict\",\"colorway\":[\"#636efa\",\"#EF553B\",\"#00cc96\",\"#ab63fa\",\"#FFA15A\",\"#19d3f3\",\"#FF6692\",\"#B6E880\",\"#FF97FF\",\"#FECB52\"],\"font\":{\"color\":\"#2a3f5f\"},\"hovermode\":\"closest\",\"hoverlabel\":{\"align\":\"left\"},\"paper_bgcolor\":\"white\",\"plot_bgcolor\":\"#E5ECF6\",\"polar\":{\"bgcolor\":\"#E5ECF6\",\"angularaxis\":{\"gridcolor\":\"white\",\"linecolor\":\"white\",\"ticks\":\"\"},\"radialaxis\":{\"gridcolor\":\"white\",\"linecolor\":\"white\",\"ticks\":\"\"}},\"ternary\":{\"bgcolor\":\"#E5ECF6\",\"aaxis\":{\"gridcolor\":\"white\",\"linecolor\":\"white\",\"ticks\":\"\"},\"baxis\":{\"gridcolor\":\"white\",\"linecolor\":\"white\",\"ticks\":\"\"},\"caxis\":{\"gridcolor\":\"white\",\"linecolor\":\"white\",\"ticks\":\"\"}},\"coloraxis\":{\"colorbar\":{\"outlinewidth\":0,\"ticks\":\"\"}},\"colorscale\":{\"sequential\":[[0.0,\"#0d0887\"],[0.1111111111111111,\"#46039f\"],[0.2222222222222222,\"#7201a8\"],[0.3333333333333333,\"#9c179e\"],[0.4444444444444444,\"#bd3786\"],[0.5555555555555556,\"#d8576b\"],[0.6666666666666666,\"#ed7953\"],[0.7777777777777778,\"#fb9f3a\"],[0.8888888888888888,\"#fdca26\"],[1.0,\"#f0f921\"]],\"sequentialminus\":[[0.0,\"#0d0887\"],[0.1111111111111111,\"#46039f\"],[0.2222222222222222,\"#7201a8\"],[0.3333333333333333,\"#9c179e\"],[0.4444444444444444,\"#bd3786\"],[0.5555555555555556,\"#d8576b\"],[0.6666666666666666,\"#ed7953\"],[0.7777777777777778,\"#fb9f3a\"],[0.8888888888888888,\"#fdca26\"],[1.0,\"#f0f921\"]],\"diverging\":[[0,\"#8e0152\"],[0.1,\"#c51b7d\"],[0.2,\"#de77ae\"],[0.3,\"#f1b6da\"],[0.4,\"#fde0ef\"],[0.5,\"#f7f7f7\"],[0.6,\"#e6f5d0\"],[0.7,\"#b8e186\"],[0.8,\"#7fbc41\"],[0.9,\"#4d9221\"],[1,\"#276419\"]]},\"xaxis\":{\"gridcolor\":\"white\",\"linecolor\":\"white\",\"ticks\":\"\",\"title\":{\"standoff\":15},\"zerolinecolor\":\"white\",\"automargin\":true,\"zerolinewidth\":2},\"yaxis\":{\"gridcolor\":\"white\",\"linecolor\":\"white\",\"ticks\":\"\",\"title\":{\"standoff\":15},\"zerolinecolor\":\"white\",\"automargin\":true,\"zerolinewidth\":2},\"scene\":{\"xaxis\":{\"backgroundcolor\":\"#E5ECF6\",\"gridcolor\":\"white\",\"linecolor\":\"white\",\"showbackground\":true,\"ticks\":\"\",\"zerolinecolor\":\"white\",\"gridwidth\":2},\"yaxis\":{\"backgroundcolor\":\"#E5ECF6\",\"gridcolor\":\"white\",\"linecolor\":\"white\",\"showbackground\":true,\"ticks\":\"\",\"zerolinecolor\":\"white\",\"gridwidth\":2},\"zaxis\":{\"backgroundcolor\":\"#E5ECF6\",\"gridcolor\":\"white\",\"linecolor\":\"white\",\"showbackground\":true,\"ticks\":\"\",\"zerolinecolor\":\"white\",\"gridwidth\":2}},\"shapedefaults\":{\"line\":{\"color\":\"#2a3f5f\"}},\"annotationdefaults\":{\"arrowcolor\":\"#2a3f5f\",\"arrowhead\":0,\"arrowwidth\":1},\"geo\":{\"bgcolor\":\"white\",\"landcolor\":\"#E5ECF6\",\"subunitcolor\":\"white\",\"showland\":true,\"showlakes\":true,\"lakecolor\":\"white\"},\"title\":{\"x\":0.05},\"mapbox\":{\"style\":\"light\"}}}},                        {\"responsive\": true}                    ).then(function(){\n",
       "                            \n",
       "var gd = document.getElementById('9581113f-05a0-489e-8540-1f8bf456be7e');\n",
       "var x = new MutationObserver(function (mutations, observer) {{\n",
       "        var display = window.getComputedStyle(gd).display;\n",
       "        if (!display || display === 'none') {{\n",
       "            console.log([gd, 'removed!']);\n",
       "            Plotly.purge(gd);\n",
       "            observer.disconnect();\n",
       "        }}\n",
       "}});\n",
       "\n",
       "// Listen for the removal of the full notebook cells\n",
       "var notebookContainer = gd.closest('#notebook-container');\n",
       "if (notebookContainer) {{\n",
       "    x.observe(notebookContainer, {childList: true});\n",
       "}}\n",
       "\n",
       "// Listen for the clearing of the current output cell\n",
       "var outputEl = gd.closest('.output');\n",
       "if (outputEl) {{\n",
       "    x.observe(outputEl, {childList: true});\n",
       "}}\n",
       "\n",
       "                        })                };                });            </script>        </div>"
      ]
     },
     "metadata": {},
     "output_type": "display_data"
    }
   ],
   "source": [
    "released_year_ott = OTT.loc[OTT['release_year'] > 2010].groupby(['release_year', 'type']).agg({'show_id': 'count'}).reset_index()\n",
    "added_year_ott = OTT.loc[OTT['year_added'] > 2010].groupby(['year_added', 'type']).agg({'show_id': 'count'}).reset_index()\n",
    "\n",
    "fig = go.Figure()\n",
    "fig.add_trace(go.Scatter( \n",
    "    x=released_year_ott.loc[released_year_ott['type'] == 'Movie']['release_year'], \n",
    "    y=released_year_ott.loc[released_year_ott['type'] == 'Movie']['show_id'],\n",
    "    mode='lines+markers',\n",
    "    name='Movie: Released Year',\n",
    "    marker_color='green',\n",
    "))\n",
    "\n",
    "fig.add_trace(go.Scatter( \n",
    "    x=released_year_ott.loc[released_year_ott['type'] == 'TV Show']['release_year'], \n",
    "    y=released_year_ott.loc[released_year_ott['type'] == 'TV Show']['show_id'],\n",
    "    mode='lines+markers',\n",
    "    name='TV Show: Released Year',\n",
    "    marker_color='darkgreen',\n",
    "))\n",
    "\n",
    "fig.add_trace(go.Scatter( \n",
    "    x=added_year_ott.loc[added_year_ott['type'] == 'Movie']['year_added'], \n",
    "    y=added_year_ott.loc[added_year_ott['type'] == 'Movie']['show_id'],\n",
    "    mode='lines+markers',\n",
    "    name='Movie: Year Added',\n",
    "    marker_color='orange',\n",
    "))\n",
    "\n",
    "fig.add_trace(go.Scatter( \n",
    "    x=added_year_ott.loc[added_year_ott['type'] == 'TV Show']['year_added'], \n",
    "    y=added_year_ott.loc[added_year_ott['type'] == 'TV Show']['show_id'],\n",
    "    mode='lines+markers',\n",
    "    name='TV Show: Year Added',\n",
    "    marker_color='darkorange',\n",
    "))\n",
    "\n",
    "fig.show()"
   ]
  },
  {
   "cell_type": "code",
   "execution_count": 23,
   "id": "12057e78",
   "metadata": {
    "execution": {
     "iopub.execute_input": "2024-01-19T16:21:33.542888Z",
     "iopub.status.busy": "2024-01-19T16:21:33.541886Z",
     "iopub.status.idle": "2024-01-19T16:21:34.038799Z",
     "shell.execute_reply": "2024-01-19T16:21:34.037894Z"
    },
    "papermill": {
     "duration": 0.525889,
     "end_time": "2024-01-19T16:21:34.041461",
     "exception": false,
     "start_time": "2024-01-19T16:21:33.515572",
     "status": "completed"
    },
    "tags": []
   },
   "outputs": [
    {
     "name": "stderr",
     "output_type": "stream",
     "text": [
      "/tmp/ipykernel_18/3568770603.py:3: UserWarning:\n",
      "\n",
      "\n",
      "\n",
      "`distplot` is a deprecated function and will be removed in seaborn v0.14.0.\n",
      "\n",
      "Please adapt your code to use either `displot` (a figure-level function with\n",
      "similar flexibility) or `histplot` (an axes-level function for histograms).\n",
      "\n",
      "For a guide to updating your code to use the new functions, please see\n",
      "https://gist.github.com/mwaskom/de44147ed2974457ad6372750bbe5751\n",
      "\n",
      "\n"
     ]
    },
    {
     "data": {
      "text/plain": [
       "<Axes: xlabel='release_year'>"
      ]
     },
     "execution_count": 23,
     "metadata": {},
     "output_type": "execute_result"
    },
    {
     "data": {
      "image/png": "[encoded data removed]",
      "text/plain": [
       "<Figure size 640x480 with 1 Axes>"
      ]
     },
     "metadata": {},
     "output_type": "display_data"
    }
   ],
   "source": [
    "from scipy.stats import norm\n",
    "\n",
    "sns.distplot(OTT.loc[OTT['release_year'] > 2000, 'release_year'], fit=norm, kde=False)"
   ]
  },
  {
   "cell_type": "markdown",
   "id": "e59a54cc",
   "metadata": {
    "papermill": {
     "duration": 0.025347,
     "end_time": "2024-01-19T16:21:34.092751",
     "exception": false,
     "start_time": "2024-01-19T16:21:34.067404",
     "status": "completed"
    },
    "tags": []
   },
   "source": [
    "* intersting 2017 was the year when most of the movies were released"
   ]
  },
  {
   "cell_type": "markdown",
   "id": "30bb4425",
   "metadata": {
    "papermill": {
     "duration": 0.02725,
     "end_time": "2024-01-19T16:21:34.146141",
     "exception": false,
     "start_time": "2024-01-19T16:21:34.118891",
     "status": "completed"
    },
    "tags": []
   },
   "source": [
    "#### 5. analysis on duration of movies"
   ]
  },
  {
   "cell_type": "code",
   "execution_count": 24,
   "id": "04ba5038",
   "metadata": {
    "execution": {
     "iopub.execute_input": "2024-01-19T16:21:34.199824Z",
     "iopub.status.busy": "2024-01-19T16:21:34.199439Z",
     "iopub.status.idle": "2024-01-19T16:21:34.712236Z",
     "shell.execute_reply": "2024-01-19T16:21:34.711082Z"
    },
    "papermill": {
     "duration": 0.542918,
     "end_time": "2024-01-19T16:21:34.714974",
     "exception": false,
     "start_time": "2024-01-19T16:21:34.172056",
     "status": "completed"
    },
    "tags": []
   },
   "outputs": [
    {
     "name": "stderr",
     "output_type": "stream",
     "text": [
      "/tmp/ipykernel_18/4146698287.py:2: FutureWarning:\n",
      "\n",
      "\n",
      "\n",
      "`shade` is now deprecated in favor of `fill`; setting `fill=True`.\n",
      "This will become an error in seaborn v0.14.0; please update your code.\n",
      "\n",
      "\n"
     ]
    },
    {
     "data": {
      "image/png": "[encoded data removed]",
      "text/plain": [
       "<Figure size 1000x600 with 1 Axes>"
      ]
     },
     "metadata": {},
     "output_type": "display_data"
    }
   ],
   "source": [
    "plt.figure(figsize=(10, 6))\n",
    "sns.kdeplot(data=OTT['duration'], shade=True)\n",
    "\n",
    "\n",
    "plt.title(\"Movie duration in min\")\n",
    "plt.show()"
   ]
  },
  {
   "cell_type": "markdown",
   "id": "d4d7c226",
   "metadata": {
    "papermill": {
     "duration": 0.026717,
     "end_time": "2024-01-19T16:21:34.768901",
     "exception": false,
     "start_time": "2024-01-19T16:21:34.742184",
     "status": "completed"
    },
    "tags": []
   },
   "source": [
    "# mutivariate analysis"
   ]
  },
  {
   "cell_type": "markdown",
   "id": "2a6279fc",
   "metadata": {
    "papermill": {
     "duration": 0.026719,
     "end_time": "2024-01-19T16:21:34.822435",
     "exception": false,
     "start_time": "2024-01-19T16:21:34.795716",
     "status": "completed"
    },
    "tags": []
   },
   "source": [
    "#### Movie & TV shows Genre relation"
   ]
  },
  {
   "cell_type": "code",
   "execution_count": 25,
   "id": "97a00360",
   "metadata": {
    "execution": {
     "iopub.execute_input": "2024-01-19T16:21:34.880404Z",
     "iopub.status.busy": "2024-01-19T16:21:34.879191Z",
     "iopub.status.idle": "2024-01-19T16:21:35.020828Z",
     "shell.execute_reply": "2024-01-19T16:21:35.019720Z"
    },
    "papermill": {
     "duration": 0.17338,
     "end_time": "2024-01-19T16:21:35.023741",
     "exception": false,
     "start_time": "2024-01-19T16:21:34.850361",
     "status": "completed"
    },
    "tags": []
   },
   "outputs": [],
   "source": [
    "from sklearn.preprocessing import MultiLabelBinarizer # Similar to One-Hot Encoding"
   ]
  },
  {
   "cell_type": "code",
   "execution_count": 26,
   "id": "d7ce83e1",
   "metadata": {
    "execution": {
     "iopub.execute_input": "2024-01-19T16:21:35.080332Z",
     "iopub.status.busy": "2024-01-19T16:21:35.079947Z",
     "iopub.status.idle": "2024-01-19T16:21:35.085395Z",
     "shell.execute_reply": "2024-01-19T16:21:35.084216Z"
    },
    "papermill": {
     "duration": 0.036664,
     "end_time": "2024-01-19T16:21:35.087785",
     "exception": false,
     "start_time": "2024-01-19T16:21:35.051121",
     "status": "completed"
    },
    "tags": []
   },
   "outputs": [],
   "source": [
    "def calculate_mlb(series):\n",
    "    mlb = MultiLabelBinarizer()\n",
    "    mlb_df = pd.DataFrame(mlb.fit_transform(series), columns=mlb.classes_, index=series.index)\n",
    "    return mlb_df"
   ]
  },
  {
   "cell_type": "code",
   "execution_count": 27,
   "id": "24d9876d",
   "metadata": {
    "execution": {
     "iopub.execute_input": "2024-01-19T16:21:35.145636Z",
     "iopub.status.busy": "2024-01-19T16:21:35.144851Z",
     "iopub.status.idle": "2024-01-19T16:21:35.168756Z",
     "shell.execute_reply": "2024-01-19T16:21:35.167612Z"
    },
    "papermill": {
     "duration": 0.056234,
     "end_time": "2024-01-19T16:21:35.171134",
     "exception": false,
     "start_time": "2024-01-19T16:21:35.114900",
     "status": "completed"
    },
    "tags": []
   },
   "outputs": [
    {
     "data": {
      "text/plain": [
       "0                                      [Documentaries]\n",
       "1    [International TV Shows, TV Dramas, TV Mysteries]\n",
       "2    [Crime TV Shows, International TV Shows, TV Ac...\n",
       "3                             [Docuseries, Reality TV]\n",
       "4    [International TV Shows, Romantic TV Shows, TV...\n",
       "Name: genre, dtype: object"
      ]
     },
     "execution_count": 27,
     "metadata": {},
     "output_type": "execute_result"
    }
   ],
   "source": [
    "OTT['genre'] = OTT['listed_in'].apply(lambda x :  x.replace(' ,',',').replace(', ',',').split(',')) \n",
    "OTT['genre'].head()"
   ]
  },
  {
   "cell_type": "code",
   "execution_count": 28,
   "id": "429486c1",
   "metadata": {
    "execution": {
     "iopub.execute_input": "2024-01-19T16:21:35.227541Z",
     "iopub.status.busy": "2024-01-19T16:21:35.226882Z",
     "iopub.status.idle": "2024-01-19T16:21:35.233628Z",
     "shell.execute_reply": "2024-01-19T16:21:35.232773Z"
    },
    "papermill": {
     "duration": 0.037542,
     "end_time": "2024-01-19T16:21:35.235857",
     "exception": false,
     "start_time": "2024-01-19T16:21:35.198315",
     "status": "completed"
    },
    "tags": []
   },
   "outputs": [],
   "source": [
    "def top_genres(df, title='Top ones'):\n",
    "    genres_df = calculate_mlb(OTT['genre'])\n",
    "    tdata = genres_df.sum().sort_values(ascending=False)\n",
    "    \n",
    "    fig = go.Figure()\n",
    "    fig.add_trace(go.Bar(\n",
    "        x=tdata.index,\n",
    "        y=tdata.values,\n",
    "    ))\n",
    "    fig.update_xaxes(categoryorder='total descending')\n",
    "    fig.update_layout(title=title)\n",
    "    fig.show()"
   ]
  },
  {
   "cell_type": "code",
   "execution_count": 29,
   "id": "9ccc5c13",
   "metadata": {
    "execution": {
     "iopub.execute_input": "2024-01-19T16:21:35.292490Z",
     "iopub.status.busy": "2024-01-19T16:21:35.291770Z",
     "iopub.status.idle": "2024-01-19T16:21:35.361812Z",
     "shell.execute_reply": "2024-01-19T16:21:35.360564Z"
    },
    "papermill": {
     "duration": 0.101364,
     "end_time": "2024-01-19T16:21:35.364514",
     "exception": false,
     "start_time": "2024-01-19T16:21:35.263150",
     "status": "completed"
    },
    "tags": []
   },
   "outputs": [
    {
     "data": {
      "text/html": [
       "<div>                            <div id=\"c4cd8f00-89b3-4deb-8c2e-737ddaa4b17e\" class=\"plotly-graph-div\" style=\"height:525px; width:100%;\"></div>            <script type=\"text/javascript\">                require([\"plotly\"], function(Plotly) {                    window.PLOTLYENV=window.PLOTLYENV || {};                                    if (document.getElementById(\"c4cd8f00-89b3-4deb-8c2e-737ddaa4b17e\")) {                    Plotly.newPlot(                        \"c4cd8f00-89b3-4deb-8c2e-737ddaa4b17e\",                        [{\"x\":[\"International Movies\",\"Dramas\",\"Comedies\",\"International TV Shows\",\"Documentaries\",\"Action & Adventure\",\"TV Dramas\",\"Independent Movies\",\"Children & Family Movies\",\"Romantic Movies\",\"Thrillers\",\"TV Comedies\",\"Crime TV Shows\",\"Kids' TV\",\"Docuseries\",\"Music & Musicals\",\"Romantic TV Shows\",\"Horror Movies\",\"Stand-Up Comedy\",\"Reality TV\",\"British TV Shows\",\"Sci-Fi & Fantasy\",\"Sports Movies\",\"Anime Series\",\"Spanish-Language TV Shows\",\"TV Action & Adventure\",\"Korean TV Shows\",\"Classic Movies\",\"LGBTQ Movies\",\"TV Mysteries\",\"Science & Nature TV\",\"TV Sci-Fi & Fantasy\",\"TV Horror\",\"Anime Features\",\"Cult Movies\",\"Teen TV Shows\",\"Faith & Spirituality\",\"TV Thrillers\",\"Movies\",\"Stand-Up Comedy & Talk Shows\",\"Classic & Cult TV\",\"TV Shows\"],\"y\":[2752,2427,1674,1350,869,859,762,756,641,616,577,574,469,449,394,375,370,357,343,255,252,243,219,175,173,167,151,116,102,98,92,83,75,71,71,69,65,57,57,56,26,16],\"type\":\"bar\"}],                        {\"template\":{\"data\":{\"histogram2dcontour\":[{\"type\":\"histogram2dcontour\",\"colorbar\":{\"outlinewidth\":0,\"ticks\":\"\"},\"colorscale\":[[0.0,\"#0d0887\"],[0.1111111111111111,\"#46039f\"],[0.2222222222222222,\"#7201a8\"],[0.3333333333333333,\"#9c179e\"],[0.4444444444444444,\"#bd3786\"],[0.5555555555555556,\"#d8576b\"],[0.6666666666666666,\"#ed7953\"],[0.7777777777777778,\"#fb9f3a\"],[0.8888888888888888,\"#fdca26\"],[1.0,\"#f0f921\"]]}],\"choropleth\":[{\"type\":\"choropleth\",\"colorbar\":{\"outlinewidth\":0,\"ticks\":\"\"}}],\"histogram2d\":[{\"type\":\"histogram2d\",\"colorbar\":{\"outlinewidth\":0,\"ticks\":\"\"},\"colorscale\":[[0.0,\"#0d0887\"],[0.1111111111111111,\"#46039f\"],[0.2222222222222222,\"#7201a8\"],[0.3333333333333333,\"#9c179e\"],[0.4444444444444444,\"#bd3786\"],[0.5555555555555556,\"#d8576b\"],[0.6666666666666666,\"#ed7953\"],[0.7777777777777778,\"#fb9f3a\"],[0.8888888888888888,\"#fdca26\"],[1.0,\"#f0f921\"]]}],\"heatmap\":[{\"type\":\"heatmap\",\"colorbar\":{\"outlinewidth\":0,\"ticks\":\"\"},\"colorscale\":[[0.0,\"#0d0887\"],[0.1111111111111111,\"#46039f\"],[0.2222222222222222,\"#7201a8\"],[0.3333333333333333,\"#9c179e\"],[0.4444444444444444,\"#bd3786\"],[0.5555555555555556,\"#d8576b\"],[0.6666666666666666,\"#ed7953\"],[0.7777777777777778,\"#fb9f3a\"],[0.8888888888888888,\"#fdca26\"],[1.0,\"#f0f921\"]]}],\"heatmapgl\":[{\"type\":\"heatmapgl\",\"colorbar\":{\"outlinewidth\":0,\"ticks\":\"\"},\"colorscale\":[[0.0,\"#0d0887\"],[0.1111111111111111,\"#46039f\"],[0.2222222222222222,\"#7201a8\"],[0.3333333333333333,\"#9c179e\"],[0.4444444444444444,\"#bd3786\"],[0.5555555555555556,\"#d8576b\"],[0.6666666666666666,\"#ed7953\"],[0.7777777777777778,\"#fb9f3a\"],[0.8888888888888888,\"#fdca26\"],[1.0,\"#f0f921\"]]}],\"contourcarpet\":[{\"type\":\"contourcarpet\",\"colorbar\":{\"outlinewidth\":0,\"ticks\":\"\"}}],\"contour\":[{\"type\":\"contour\",\"colorbar\":{\"outlinewidth\":0,\"ticks\":\"\"},\"colorscale\":[[0.0,\"#0d0887\"],[0.1111111111111111,\"#46039f\"],[0.2222222222222222,\"#7201a8\"],[0.3333333333333333,\"#9c179e\"],[0.4444444444444444,\"#bd3786\"],[0.5555555555555556,\"#d8576b\"],[0.6666666666666666,\"#ed7953\"],[0.7777777777777778,\"#fb9f3a\"],[0.8888888888888888,\"#fdca26\"],[1.0,\"#f0f921\"]]}],\"surface\":[{\"type\":\"surface\",\"colorbar\":{\"outlinewidth\":0,\"ticks\":\"\"},\"colorscale\":[[0.0,\"#0d0887\"],[0.1111111111111111,\"#46039f\"],[0.2222222222222222,\"#7201a8\"],[0.3333333333333333,\"#9c179e\"],[0.4444444444444444,\"#bd3786\"],[0.5555555555555556,\"#d8576b\"],[0.6666666666666666,\"#ed7953\"],[0.7777777777777778,\"#fb9f3a\"],[0.8888888888888888,\"#fdca26\"],[1.0,\"#f0f921\"]]}],\"mesh3d\":[{\"type\":\"mesh3d\",\"colorbar\":{\"outlinewidth\":0,\"ticks\":\"\"}}],\"scatter\":[{\"fillpattern\":{\"fillmode\":\"overlay\",\"size\":10,\"solidity\":0.2},\"type\":\"scatter\"}],\"parcoords\":[{\"type\":\"parcoords\",\"line\":{\"colorbar\":{\"outlinewidth\":0,\"ticks\":\"\"}}}],\"scatterpolargl\":[{\"type\":\"scatterpolargl\",\"marker\":{\"colorbar\":{\"outlinewidth\":0,\"ticks\":\"\"}}}],\"bar\":[{\"error_x\":{\"color\":\"#2a3f5f\"},\"error_y\":{\"color\":\"#2a3f5f\"},\"marker\":{\"line\":{\"color\":\"#E5ECF6\",\"width\":0.5},\"pattern\":{\"fillmode\":\"overlay\",\"size\":10,\"solidity\":0.2}},\"type\":\"bar\"}],\"scattergeo\":[{\"type\":\"scattergeo\",\"marker\":{\"colorbar\":{\"outlinewidth\":0,\"ticks\":\"\"}}}],\"scatterpolar\":[{\"type\":\"scatterpolar\",\"marker\":{\"colorbar\":{\"outlinewidth\":0,\"ticks\":\"\"}}}],\"histogram\":[{\"marker\":{\"pattern\":{\"fillmode\":\"overlay\",\"size\":10,\"solidity\":0.2}},\"type\":\"histogram\"}],\"scattergl\":[{\"type\":\"scattergl\",\"marker\":{\"colorbar\":{\"outlinewidth\":0,\"ticks\":\"\"}}}],\"scatter3d\":[{\"type\":\"scatter3d\",\"line\":{\"colorbar\":{\"outlinewidth\":0,\"ticks\":\"\"}},\"marker\":{\"colorbar\":{\"outlinewidth\":0,\"ticks\":\"\"}}}],\"scattermapbox\":[{\"type\":\"scattermapbox\",\"marker\":{\"colorbar\":{\"outlinewidth\":0,\"ticks\":\"\"}}}],\"scatterternary\":[{\"type\":\"scatterternary\",\"marker\":{\"colorbar\":{\"outlinewidth\":0,\"ticks\":\"\"}}}],\"scattercarpet\":[{\"type\":\"scattercarpet\",\"marker\":{\"colorbar\":{\"outlinewidth\":0,\"ticks\":\"\"}}}],\"carpet\":[{\"aaxis\":{\"endlinecolor\":\"#2a3f5f\",\"gridcolor\":\"white\",\"linecolor\":\"white\",\"minorgridcolor\":\"white\",\"startlinecolor\":\"#2a3f5f\"},\"baxis\":{\"endlinecolor\":\"#2a3f5f\",\"gridcolor\":\"white\",\"linecolor\":\"white\",\"minorgridcolor\":\"white\",\"startlinecolor\":\"#2a3f5f\"},\"type\":\"carpet\"}],\"table\":[{\"cells\":{\"fill\":{\"color\":\"#EBF0F8\"},\"line\":{\"color\":\"white\"}},\"header\":{\"fill\":{\"color\":\"#C8D4E3\"},\"line\":{\"color\":\"white\"}},\"type\":\"table\"}],\"barpolar\":[{\"marker\":{\"line\":{\"color\":\"#E5ECF6\",\"width\":0.5},\"pattern\":{\"fillmode\":\"overlay\",\"size\":10,\"solidity\":0.2}},\"type\":\"barpolar\"}],\"pie\":[{\"automargin\":true,\"type\":\"pie\"}]},\"layout\":{\"autotypenumbers\":\"strict\",\"colorway\":[\"#636efa\",\"#EF553B\",\"#00cc96\",\"#ab63fa\",\"#FFA15A\",\"#19d3f3\",\"#FF6692\",\"#B6E880\",\"#FF97FF\",\"#FECB52\"],\"font\":{\"color\":\"#2a3f5f\"},\"hovermode\":\"closest\",\"hoverlabel\":{\"align\":\"left\"},\"paper_bgcolor\":\"white\",\"plot_bgcolor\":\"#E5ECF6\",\"polar\":{\"bgcolor\":\"#E5ECF6\",\"angularaxis\":{\"gridcolor\":\"white\",\"linecolor\":\"white\",\"ticks\":\"\"},\"radialaxis\":{\"gridcolor\":\"white\",\"linecolor\":\"white\",\"ticks\":\"\"}},\"ternary\":{\"bgcolor\":\"#E5ECF6\",\"aaxis\":{\"gridcolor\":\"white\",\"linecolor\":\"white\",\"ticks\":\"\"},\"baxis\":{\"gridcolor\":\"white\",\"linecolor\":\"white\",\"ticks\":\"\"},\"caxis\":{\"gridcolor\":\"white\",\"linecolor\":\"white\",\"ticks\":\"\"}},\"coloraxis\":{\"colorbar\":{\"outlinewidth\":0,\"ticks\":\"\"}},\"colorscale\":{\"sequential\":[[0.0,\"#0d0887\"],[0.1111111111111111,\"#46039f\"],[0.2222222222222222,\"#7201a8\"],[0.3333333333333333,\"#9c179e\"],[0.4444444444444444,\"#bd3786\"],[0.5555555555555556,\"#d8576b\"],[0.6666666666666666,\"#ed7953\"],[0.7777777777777778,\"#fb9f3a\"],[0.8888888888888888,\"#fdca26\"],[1.0,\"#f0f921\"]],\"sequentialminus\":[[0.0,\"#0d0887\"],[0.1111111111111111,\"#46039f\"],[0.2222222222222222,\"#7201a8\"],[0.3333333333333333,\"#9c179e\"],[0.4444444444444444,\"#bd3786\"],[0.5555555555555556,\"#d8576b\"],[0.6666666666666666,\"#ed7953\"],[0.7777777777777778,\"#fb9f3a\"],[0.8888888888888888,\"#fdca26\"],[1.0,\"#f0f921\"]],\"diverging\":[[0,\"#8e0152\"],[0.1,\"#c51b7d\"],[0.2,\"#de77ae\"],[0.3,\"#f1b6da\"],[0.4,\"#fde0ef\"],[0.5,\"#f7f7f7\"],[0.6,\"#e6f5d0\"],[0.7,\"#b8e186\"],[0.8,\"#7fbc41\"],[0.9,\"#4d9221\"],[1,\"#276419\"]]},\"xaxis\":{\"gridcolor\":\"white\",\"linecolor\":\"white\",\"ticks\":\"\",\"title\":{\"standoff\":15},\"zerolinecolor\":\"white\",\"automargin\":true,\"zerolinewidth\":2},\"yaxis\":{\"gridcolor\":\"white\",\"linecolor\":\"white\",\"ticks\":\"\",\"title\":{\"standoff\":15},\"zerolinecolor\":\"white\",\"automargin\":true,\"zerolinewidth\":2},\"scene\":{\"xaxis\":{\"backgroundcolor\":\"#E5ECF6\",\"gridcolor\":\"white\",\"linecolor\":\"white\",\"showbackground\":true,\"ticks\":\"\",\"zerolinecolor\":\"white\",\"gridwidth\":2},\"yaxis\":{\"backgroundcolor\":\"#E5ECF6\",\"gridcolor\":\"white\",\"linecolor\":\"white\",\"showbackground\":true,\"ticks\":\"\",\"zerolinecolor\":\"white\",\"gridwidth\":2},\"zaxis\":{\"backgroundcolor\":\"#E5ECF6\",\"gridcolor\":\"white\",\"linecolor\":\"white\",\"showbackground\":true,\"ticks\":\"\",\"zerolinecolor\":\"white\",\"gridwidth\":2}},\"shapedefaults\":{\"line\":{\"color\":\"#2a3f5f\"}},\"annotationdefaults\":{\"arrowcolor\":\"#2a3f5f\",\"arrowhead\":0,\"arrowwidth\":1},\"geo\":{\"bgcolor\":\"white\",\"landcolor\":\"#E5ECF6\",\"subunitcolor\":\"white\",\"showland\":true,\"showlakes\":true,\"lakecolor\":\"white\"},\"title\":{\"x\":0.05},\"mapbox\":{\"style\":\"light\"}}},\"xaxis\":{\"categoryorder\":\"total descending\"},\"title\":{\"text\":\"Top movies and shows Genres\"}},                        {\"responsive\": true}                    ).then(function(){\n",
       "                            \n",
       "var gd = document.getElementById('c4cd8f00-89b3-4deb-8c2e-737ddaa4b17e');\n",
       "var x = new MutationObserver(function (mutations, observer) {{\n",
       "        var display = window.getComputedStyle(gd).display;\n",
       "        if (!display || display === 'none') {{\n",
       "            console.log([gd, 'removed!']);\n",
       "            Plotly.purge(gd);\n",
       "            observer.disconnect();\n",
       "        }}\n",
       "}});\n",
       "\n",
       "// Listen for the removal of the full notebook cells\n",
       "var notebookContainer = gd.closest('#notebook-container');\n",
       "if (notebookContainer) {{\n",
       "    x.observe(notebookContainer, {childList: true});\n",
       "}}\n",
       "\n",
       "// Listen for the clearing of the current output cell\n",
       "var outputEl = gd.closest('.output');\n",
       "if (outputEl) {{\n",
       "    x.observe(outputEl, {childList: true});\n",
       "}}\n",
       "\n",
       "                        })                };                });            </script>        </div>"
      ]
     },
     "metadata": {},
     "output_type": "display_data"
    }
   ],
   "source": [
    "top_genres(OTT, title='Top movies and shows Genres')"
   ]
  },
  {
   "cell_type": "code",
   "execution_count": 30,
   "id": "6fd4ca2b",
   "metadata": {
    "execution": {
     "iopub.execute_input": "2024-01-19T16:21:35.421376Z",
     "iopub.status.busy": "2024-01-19T16:21:35.420753Z",
     "iopub.status.idle": "2024-01-19T16:21:36.341938Z",
     "shell.execute_reply": "2024-01-19T16:21:36.340810Z"
    },
    "papermill": {
     "duration": 0.953739,
     "end_time": "2024-01-19T16:21:36.345655",
     "exception": false,
     "start_time": "2024-01-19T16:21:35.391916",
     "status": "completed"
    },
    "tags": []
   },
   "outputs": [
    {
     "data": {
      "image/png": "[encoded data removed]",
      "text/plain": [
       "<Figure size 1000x700 with 2 Axes>"
      ]
     },
     "metadata": {},
     "output_type": "display_data"
    }
   ],
   "source": [
    "genres_df = calculate_mlb(OTT['genre'])\n",
    "\n",
    "corr = genres_df.corr()\n",
    "mask = np.zeros_like(corr)\n",
    "mask[np.triu_indices_from(mask)] = True\n",
    "fig, ax = plt.subplots(figsize=(10, 7))\n",
    "pl = sns.heatmap(corr, mask=mask, cmap= \"coolwarm\", vmax=.5, vmin=-.5, center=0, linewidths=.5,\n",
    "                 cbar_kws={\"shrink\": 0.6})\n",
    "plt.show()"
   ]
  },
  {
   "cell_type": "markdown",
   "id": "9bb6faea",
   "metadata": {
    "papermill": {
     "duration": 0.030052,
     "end_time": "2024-01-19T16:21:36.406082",
     "exception": false,
     "start_time": "2024-01-19T16:21:36.376030",
     "status": "completed"
    },
    "tags": []
   },
   "source": [
    "##### top genres relese by year"
   ]
  },
  {
   "cell_type": "code",
   "execution_count": 31,
   "id": "6811646f",
   "metadata": {
    "execution": {
     "iopub.execute_input": "2024-01-19T16:21:36.468176Z",
     "iopub.status.busy": "2024-01-19T16:21:36.467774Z",
     "iopub.status.idle": "2024-01-19T16:21:36.473187Z",
     "shell.execute_reply": "2024-01-19T16:21:36.472032Z"
    },
    "papermill": {
     "duration": 0.039327,
     "end_time": "2024-01-19T16:21:36.475538",
     "exception": false,
     "start_time": "2024-01-19T16:21:36.436211",
     "status": "completed"
    },
    "tags": []
   },
   "outputs": [],
   "source": [
    "def check_genre_contains(genres):\n",
    "    for genre in genres:\n",
    "        if genre in top_movies_genres:\n",
    "            return True\n",
    "    return False"
   ]
  },
  {
   "cell_type": "code",
   "execution_count": 32,
   "id": "8f3fe585",
   "metadata": {
    "execution": {
     "iopub.execute_input": "2024-01-19T16:21:36.538053Z",
     "iopub.status.busy": "2024-01-19T16:21:36.537045Z",
     "iopub.status.idle": "2024-01-19T16:21:36.550510Z",
     "shell.execute_reply": "2024-01-19T16:21:36.549427Z"
    },
    "papermill": {
     "duration": 0.046931,
     "end_time": "2024-01-19T16:21:36.552809",
     "exception": false,
     "start_time": "2024-01-19T16:21:36.505878",
     "status": "completed"
    },
    "tags": []
   },
   "outputs": [
    {
     "data": {
      "text/plain": [
       "0             Documentaries\n",
       "1    International TV Shows\n",
       "2            Crime TV Shows\n",
       "3                Docuseries\n",
       "4    International TV Shows\n",
       "Name: principal_genre, dtype: object"
      ]
     },
     "execution_count": 32,
     "metadata": {},
     "output_type": "execute_result"
    }
   ],
   "source": [
    "OTT['principal_genre'] = OTT['genre'].apply(lambda genres: genres[0])\n",
    "OTT['principal_genre'].head()"
   ]
  },
  {
   "cell_type": "code",
   "execution_count": 33,
   "id": "64ffcbad",
   "metadata": {
    "execution": {
     "iopub.execute_input": "2024-01-19T16:21:36.616116Z",
     "iopub.status.busy": "2024-01-19T16:21:36.615083Z",
     "iopub.status.idle": "2024-01-19T16:21:36.620566Z",
     "shell.execute_reply": "2024-01-19T16:21:36.619636Z"
    },
    "papermill": {
     "duration": 0.039247,
     "end_time": "2024-01-19T16:21:36.622845",
     "exception": false,
     "start_time": "2024-01-19T16:21:36.583598",
     "status": "completed"
    },
    "tags": []
   },
   "outputs": [],
   "source": [
    "top_movies_genres = [\n",
    "    'International Movies',\n",
    "    'Dramas',\n",
    "    'Comedies',\n",
    "    'Documentaries',\n",
    "    'Action & Adventure',\n",
    "]"
   ]
  },
  {
   "cell_type": "code",
   "execution_count": 34,
   "id": "4d5dbf29",
   "metadata": {
    "execution": {
     "iopub.execute_input": "2024-01-19T16:21:36.685708Z",
     "iopub.status.busy": "2024-01-19T16:21:36.685263Z",
     "iopub.status.idle": "2024-01-19T16:21:38.109983Z",
     "shell.execute_reply": "2024-01-19T16:21:38.108645Z"
    },
    "papermill": {
     "duration": 1.459199,
     "end_time": "2024-01-19T16:21:38.112227",
     "exception": false,
     "start_time": "2024-01-19T16:21:36.653028",
     "status": "completed"
    },
    "tags": []
   },
   "outputs": [
    {
     "data": {
      "text/html": [
       "<div>                            <div id=\"80e93160-5603-4da1-b9f6-fc4fe69acdd7\" class=\"plotly-graph-div\" style=\"height:525px; width:100%;\"></div>            <script type=\"text/javascript\">                require([\"plotly\"], function(Plotly) {                    window.PLOTLYENV=window.PLOTLYENV || {};                                    if (document.getElementById(\"80e93160-5603-4da1-b9f6-fc4fe69acdd7\")) {                    Plotly.newPlot(                        \"80e93160-5603-4da1-b9f6-fc4fe69acdd7\",                        [{\"branchvalues\":\"total\",\"domain\":{\"x\":[0.0,1.0],\"y\":[0.0,1.0]},\"hovertemplate\":\"labels=%{label}\\u003cbr\\u003ecount=%{value}\\u003cbr\\u003eparent=%{parent}\\u003cbr\\u003eid=%{id}\\u003cextra\\u003e\\u003c\\u002fextra\\u003e\",\"ids\":[\"2017\\u002fAction & Adventure\",\"2018\\u002fAction & Adventure\",\"2019\\u002fAction & Adventure\",\"2020\\u002fAction & Adventure\",\"2021\\u002fAction & Adventure\",\"2017\\u002fComedies\",\"2018\\u002fComedies\",\"2019\\u002fComedies\",\"2020\\u002fComedies\",\"2021\\u002fComedies\",\"2017\\u002fDocumentaries\",\"2018\\u002fDocumentaries\",\"2019\\u002fDocumentaries\",\"2020\\u002fDocumentaries\",\"2021\\u002fDocumentaries\",\"2017\\u002fDramas\",\"2018\\u002fDramas\",\"2019\\u002fDramas\",\"2020\\u002fDramas\",\"2021\\u002fDramas\",\"2017\\u002fInternational Movies\",\"2018\\u002fInternational Movies\",\"2019\\u002fInternational Movies\",\"2020\\u002fInternational Movies\",\"2021\\u002fInternational Movies\",\"2017\",\"2018\",\"2019\",\"2020\",\"2021\"],\"labels\":[\"Action & Adventure\",\"Action & Adventure\",\"Action & Adventure\",\"Action & Adventure\",\"Action & Adventure\",\"Comedies\",\"Comedies\",\"Comedies\",\"Comedies\",\"Comedies\",\"Documentaries\",\"Documentaries\",\"Documentaries\",\"Documentaries\",\"Documentaries\",\"Dramas\",\"Dramas\",\"Dramas\",\"Dramas\",\"Dramas\",\"International Movies\",\"International Movies\",\"International Movies\",\"International Movies\",\"International Movies\",\"2017\",\"2018\",\"2019\",\"2020\",\"2021\"],\"name\":\"\",\"parents\":[\"2017\",\"2018\",\"2019\",\"2020\",\"2021\",\"2017\",\"2018\",\"2019\",\"2020\",\"2021\",\"2017\",\"2018\",\"2019\",\"2020\",\"2021\",\"2017\",\"2018\",\"2019\",\"2020\",\"2021\",\"2017\",\"2018\",\"2019\",\"2020\",\"2021\",\"\",\"\",\"\",\"\",\"\"],\"values\":[97,173,202,170,196,136,244,286,302,201,187,163,186,107,96,200,352,365,346,262,20,26,27,37,16,640,958,1066,962,771],\"type\":\"sunburst\"}],                        {\"template\":{\"data\":{\"histogram2dcontour\":[{\"type\":\"histogram2dcontour\",\"colorbar\":{\"outlinewidth\":0,\"ticks\":\"\"},\"colorscale\":[[0.0,\"#0d0887\"],[0.1111111111111111,\"#46039f\"],[0.2222222222222222,\"#7201a8\"],[0.3333333333333333,\"#9c179e\"],[0.4444444444444444,\"#bd3786\"],[0.5555555555555556,\"#d8576b\"],[0.6666666666666666,\"#ed7953\"],[0.7777777777777778,\"#fb9f3a\"],[0.8888888888888888,\"#fdca26\"],[1.0,\"#f0f921\"]]}],\"choropleth\":[{\"type\":\"choropleth\",\"colorbar\":{\"outlinewidth\":0,\"ticks\":\"\"}}],\"histogram2d\":[{\"type\":\"histogram2d\",\"colorbar\":{\"outlinewidth\":0,\"ticks\":\"\"},\"colorscale\":[[0.0,\"#0d0887\"],[0.1111111111111111,\"#46039f\"],[0.2222222222222222,\"#7201a8\"],[0.3333333333333333,\"#9c179e\"],[0.4444444444444444,\"#bd3786\"],[0.5555555555555556,\"#d8576b\"],[0.6666666666666666,\"#ed7953\"],[0.7777777777777778,\"#fb9f3a\"],[0.8888888888888888,\"#fdca26\"],[1.0,\"#f0f921\"]]}],\"heatmap\":[{\"type\":\"heatmap\",\"colorbar\":{\"outlinewidth\":0,\"ticks\":\"\"},\"colorscale\":[[0.0,\"#0d0887\"],[0.1111111111111111,\"#46039f\"],[0.2222222222222222,\"#7201a8\"],[0.3333333333333333,\"#9c179e\"],[0.4444444444444444,\"#bd3786\"],[0.5555555555555556,\"#d8576b\"],[0.6666666666666666,\"#ed7953\"],[0.7777777777777778,\"#fb9f3a\"],[0.8888888888888888,\"#fdca26\"],[1.0,\"#f0f921\"]]}],\"heatmapgl\":[{\"type\":\"heatmapgl\",\"colorbar\":{\"outlinewidth\":0,\"ticks\":\"\"},\"colorscale\":[[0.0,\"#0d0887\"],[0.1111111111111111,\"#46039f\"],[0.2222222222222222,\"#7201a8\"],[0.3333333333333333,\"#9c179e\"],[0.4444444444444444,\"#bd3786\"],[0.5555555555555556,\"#d8576b\"],[0.6666666666666666,\"#ed7953\"],[0.7777777777777778,\"#fb9f3a\"],[0.8888888888888888,\"#fdca26\"],[1.0,\"#f0f921\"]]}],\"contourcarpet\":[{\"type\":\"contourcarpet\",\"colorbar\":{\"outlinewidth\":0,\"ticks\":\"\"}}],\"contour\":[{\"type\":\"contour\",\"colorbar\":{\"outlinewidth\":0,\"ticks\":\"\"},\"colorscale\":[[0.0,\"#0d0887\"],[0.1111111111111111,\"#46039f\"],[0.2222222222222222,\"#7201a8\"],[0.3333333333333333,\"#9c179e\"],[0.4444444444444444,\"#bd3786\"],[0.5555555555555556,\"#d8576b\"],[0.6666666666666666,\"#ed7953\"],[0.7777777777777778,\"#fb9f3a\"],[0.8888888888888888,\"#fdca26\"],[1.0,\"#f0f921\"]]}],\"surface\":[{\"type\":\"surface\",\"colorbar\":{\"outlinewidth\":0,\"ticks\":\"\"},\"colorscale\":[[0.0,\"#0d0887\"],[0.1111111111111111,\"#46039f\"],[0.2222222222222222,\"#7201a8\"],[0.3333333333333333,\"#9c179e\"],[0.4444444444444444,\"#bd3786\"],[0.5555555555555556,\"#d8576b\"],[0.6666666666666666,\"#ed7953\"],[0.7777777777777778,\"#fb9f3a\"],[0.8888888888888888,\"#fdca26\"],[1.0,\"#f0f921\"]]}],\"mesh3d\":[{\"type\":\"mesh3d\",\"colorbar\":{\"outlinewidth\":0,\"ticks\":\"\"}}],\"scatter\":[{\"fillpattern\":{\"fillmode\":\"overlay\",\"size\":10,\"solidity\":0.2},\"type\":\"scatter\"}],\"parcoords\":[{\"type\":\"parcoords\",\"line\":{\"colorbar\":{\"outlinewidth\":0,\"ticks\":\"\"}}}],\"scatterpolargl\":[{\"type\":\"scatterpolargl\",\"marker\":{\"colorbar\":{\"outlinewidth\":0,\"ticks\":\"\"}}}],\"bar\":[{\"error_x\":{\"color\":\"#2a3f5f\"},\"error_y\":{\"color\":\"#2a3f5f\"},\"marker\":{\"line\":{\"color\":\"#E5ECF6\",\"width\":0.5},\"pattern\":{\"fillmode\":\"overlay\",\"size\":10,\"solidity\":0.2}},\"type\":\"bar\"}],\"scattergeo\":[{\"type\":\"scattergeo\",\"marker\":{\"colorbar\":{\"outlinewidth\":0,\"ticks\":\"\"}}}],\"scatterpolar\":[{\"type\":\"scatterpolar\",\"marker\":{\"colorbar\":{\"outlinewidth\":0,\"ticks\":\"\"}}}],\"histogram\":[{\"marker\":{\"pattern\":{\"fillmode\":\"overlay\",\"size\":10,\"solidity\":0.2}},\"type\":\"histogram\"}],\"scattergl\":[{\"type\":\"scattergl\",\"marker\":{\"colorbar\":{\"outlinewidth\":0,\"ticks\":\"\"}}}],\"scatter3d\":[{\"type\":\"scatter3d\",\"line\":{\"colorbar\":{\"outlinewidth\":0,\"ticks\":\"\"}},\"marker\":{\"colorbar\":{\"outlinewidth\":0,\"ticks\":\"\"}}}],\"scattermapbox\":[{\"type\":\"scattermapbox\",\"marker\":{\"colorbar\":{\"outlinewidth\":0,\"ticks\":\"\"}}}],\"scatterternary\":[{\"type\":\"scatterternary\",\"marker\":{\"colorbar\":{\"outlinewidth\":0,\"ticks\":\"\"}}}],\"scattercarpet\":[{\"type\":\"scattercarpet\",\"marker\":{\"colorbar\":{\"outlinewidth\":0,\"ticks\":\"\"}}}],\"carpet\":[{\"aaxis\":{\"endlinecolor\":\"#2a3f5f\",\"gridcolor\":\"white\",\"linecolor\":\"white\",\"minorgridcolor\":\"white\",\"startlinecolor\":\"#2a3f5f\"},\"baxis\":{\"endlinecolor\":\"#2a3f5f\",\"gridcolor\":\"white\",\"linecolor\":\"white\",\"minorgridcolor\":\"white\",\"startlinecolor\":\"#2a3f5f\"},\"type\":\"carpet\"}],\"table\":[{\"cells\":{\"fill\":{\"color\":\"#EBF0F8\"},\"line\":{\"color\":\"white\"}},\"header\":{\"fill\":{\"color\":\"#C8D4E3\"},\"line\":{\"color\":\"white\"}},\"type\":\"table\"}],\"barpolar\":[{\"marker\":{\"line\":{\"color\":\"#E5ECF6\",\"width\":0.5},\"pattern\":{\"fillmode\":\"overlay\",\"size\":10,\"solidity\":0.2}},\"type\":\"barpolar\"}],\"pie\":[{\"automargin\":true,\"type\":\"pie\"}]},\"layout\":{\"autotypenumbers\":\"strict\",\"colorway\":[\"#636efa\",\"#EF553B\",\"#00cc96\",\"#ab63fa\",\"#FFA15A\",\"#19d3f3\",\"#FF6692\",\"#B6E880\",\"#FF97FF\",\"#FECB52\"],\"font\":{\"color\":\"#2a3f5f\"},\"hovermode\":\"closest\",\"hoverlabel\":{\"align\":\"left\"},\"paper_bgcolor\":\"white\",\"plot_bgcolor\":\"#E5ECF6\",\"polar\":{\"bgcolor\":\"#E5ECF6\",\"angularaxis\":{\"gridcolor\":\"white\",\"linecolor\":\"white\",\"ticks\":\"\"},\"radialaxis\":{\"gridcolor\":\"white\",\"linecolor\":\"white\",\"ticks\":\"\"}},\"ternary\":{\"bgcolor\":\"#E5ECF6\",\"aaxis\":{\"gridcolor\":\"white\",\"linecolor\":\"white\",\"ticks\":\"\"},\"baxis\":{\"gridcolor\":\"white\",\"linecolor\":\"white\",\"ticks\":\"\"},\"caxis\":{\"gridcolor\":\"white\",\"linecolor\":\"white\",\"ticks\":\"\"}},\"coloraxis\":{\"colorbar\":{\"outlinewidth\":0,\"ticks\":\"\"}},\"colorscale\":{\"sequential\":[[0.0,\"#0d0887\"],[0.1111111111111111,\"#46039f\"],[0.2222222222222222,\"#7201a8\"],[0.3333333333333333,\"#9c179e\"],[0.4444444444444444,\"#bd3786\"],[0.5555555555555556,\"#d8576b\"],[0.6666666666666666,\"#ed7953\"],[0.7777777777777778,\"#fb9f3a\"],[0.8888888888888888,\"#fdca26\"],[1.0,\"#f0f921\"]],\"sequentialminus\":[[0.0,\"#0d0887\"],[0.1111111111111111,\"#46039f\"],[0.2222222222222222,\"#7201a8\"],[0.3333333333333333,\"#9c179e\"],[0.4444444444444444,\"#bd3786\"],[0.5555555555555556,\"#d8576b\"],[0.6666666666666666,\"#ed7953\"],[0.7777777777777778,\"#fb9f3a\"],[0.8888888888888888,\"#fdca26\"],[1.0,\"#f0f921\"]],\"diverging\":[[0,\"#8e0152\"],[0.1,\"#c51b7d\"],[0.2,\"#de77ae\"],[0.3,\"#f1b6da\"],[0.4,\"#fde0ef\"],[0.5,\"#f7f7f7\"],[0.6,\"#e6f5d0\"],[0.7,\"#b8e186\"],[0.8,\"#7fbc41\"],[0.9,\"#4d9221\"],[1,\"#276419\"]]},\"xaxis\":{\"gridcolor\":\"white\",\"linecolor\":\"white\",\"ticks\":\"\",\"title\":{\"standoff\":15},\"zerolinecolor\":\"white\",\"automargin\":true,\"zerolinewidth\":2},\"yaxis\":{\"gridcolor\":\"white\",\"linecolor\":\"white\",\"ticks\":\"\",\"title\":{\"standoff\":15},\"zerolinecolor\":\"white\",\"automargin\":true,\"zerolinewidth\":2},\"scene\":{\"xaxis\":{\"backgroundcolor\":\"#E5ECF6\",\"gridcolor\":\"white\",\"linecolor\":\"white\",\"showbackground\":true,\"ticks\":\"\",\"zerolinecolor\":\"white\",\"gridwidth\":2},\"yaxis\":{\"backgroundcolor\":\"#E5ECF6\",\"gridcolor\":\"white\",\"linecolor\":\"white\",\"showbackground\":true,\"ticks\":\"\",\"zerolinecolor\":\"white\",\"gridwidth\":2},\"zaxis\":{\"backgroundcolor\":\"#E5ECF6\",\"gridcolor\":\"white\",\"linecolor\":\"white\",\"showbackground\":true,\"ticks\":\"\",\"zerolinecolor\":\"white\",\"gridwidth\":2}},\"shapedefaults\":{\"line\":{\"color\":\"#2a3f5f\"}},\"annotationdefaults\":{\"arrowcolor\":\"#2a3f5f\",\"arrowhead\":0,\"arrowwidth\":1},\"geo\":{\"bgcolor\":\"white\",\"landcolor\":\"#E5ECF6\",\"subunitcolor\":\"white\",\"showland\":true,\"showlakes\":true,\"lakecolor\":\"white\"},\"title\":{\"x\":0.05},\"mapbox\":{\"style\":\"light\"}}},\"legend\":{\"tracegroupgap\":0},\"margin\":{\"t\":60}},                        {\"responsive\": true}                    ).then(function(){\n",
       "                            \n",
       "var gd = document.getElementById('80e93160-5603-4da1-b9f6-fc4fe69acdd7');\n",
       "var x = new MutationObserver(function (mutations, observer) {{\n",
       "        var display = window.getComputedStyle(gd).display;\n",
       "        if (!display || display === 'none') {{\n",
       "            console.log([gd, 'removed!']);\n",
       "            Plotly.purge(gd);\n",
       "            observer.disconnect();\n",
       "        }}\n",
       "}});\n",
       "\n",
       "// Listen for the removal of the full notebook cells\n",
       "var notebookContainer = gd.closest('#notebook-container');\n",
       "if (notebookContainer) {{\n",
       "    x.observe(notebookContainer, {childList: true});\n",
       "}}\n",
       "\n",
       "// Listen for the clearing of the current output cell\n",
       "var outputEl = gd.closest('.output');\n",
       "if (outputEl) {{\n",
       "    x.observe(outputEl, {childList: true});\n",
       "}}\n",
       "\n",
       "                        })                };                });            </script>        </div>"
      ]
     },
     "metadata": {},
     "output_type": "display_data"
    }
   ],
   "source": [
    "year_genre_df = OTT[(OTT['principal_genre'].isin(top_movies_genres)) & (OTT['year_added'] >= 2017)].groupby(['principal_genre', 'year_added']).agg({'title': 'count'})\n",
    "year_genre_df = year_genre_df.reset_index()\n",
    "year_genre_df.columns = ['principal_genre', 'year_added', 'count']\n",
    "\n",
    "fig = px.sunburst(year_genre_df, path=['year_added', 'principal_genre'], values='count')\n",
    "fig.show()"
   ]
  },
  {
   "cell_type": "markdown",
   "id": "4914563f",
   "metadata": {
    "papermill": {
     "duration": 0.030098,
     "end_time": "2024-01-19T16:21:38.174318",
     "exception": false,
     "start_time": "2024-01-19T16:21:38.144220",
     "status": "completed"
    },
    "tags": []
   },
   "source": [
    "# recommendation system"
   ]
  },
  {
   "cell_type": "markdown",
   "id": "097f7cff",
   "metadata": {
    "papermill": {
     "duration": 0.030002,
     "end_time": "2024-01-19T16:21:38.234567",
     "exception": false,
     "start_time": "2024-01-19T16:21:38.204565",
     "status": "completed"
    },
    "tags": []
   },
   "source": [
    "function for cleaning data"
   ]
  },
  {
   "cell_type": "code",
   "execution_count": 35,
   "id": "ce595634",
   "metadata": {
    "execution": {
     "iopub.execute_input": "2024-01-19T16:21:38.299583Z",
     "iopub.status.busy": "2024-01-19T16:21:38.298970Z",
     "iopub.status.idle": "2024-01-19T16:21:38.304679Z",
     "shell.execute_reply": "2024-01-19T16:21:38.303794Z"
    },
    "papermill": {
     "duration": 0.042189,
     "end_time": "2024-01-19T16:21:38.307122",
     "exception": false,
     "start_time": "2024-01-19T16:21:38.264933",
     "status": "completed"
    },
    "tags": []
   },
   "outputs": [],
   "source": [
    "def clean_data(x):\n",
    "    return str.lower(x.replace(\" \", \"\"))"
   ]
  },
  {
   "cell_type": "code",
   "execution_count": 36,
   "id": "e68aa110",
   "metadata": {
    "execution": {
     "iopub.execute_input": "2024-01-19T16:21:38.370610Z",
     "iopub.status.busy": "2024-01-19T16:21:38.369815Z",
     "iopub.status.idle": "2024-01-19T16:21:38.392870Z",
     "shell.execute_reply": "2024-01-19T16:21:38.391855Z"
    },
    "papermill": {
     "duration": 0.057706,
     "end_time": "2024-01-19T16:21:38.395450",
     "exception": false,
     "start_time": "2024-01-19T16:21:38.337744",
     "status": "completed"
    },
    "tags": []
   },
   "outputs": [],
   "source": [
    "filldna = OTT.fillna('')"
   ]
  },
  {
   "cell_type": "markdown",
   "id": "e1a52f76",
   "metadata": {
    "papermill": {
     "duration": 0.03008,
     "end_time": "2024-01-19T16:21:38.456186",
     "exception": false,
     "start_time": "2024-01-19T16:21:38.426106",
     "status": "completed"
    },
    "tags": []
   },
   "source": [
    "features for content based filtering"
   ]
  },
  {
   "cell_type": "code",
   "execution_count": 37,
   "id": "9784af21",
   "metadata": {
    "execution": {
     "iopub.execute_input": "2024-01-19T16:21:38.519238Z",
     "iopub.status.busy": "2024-01-19T16:21:38.518452Z",
     "iopub.status.idle": "2024-01-19T16:21:38.527042Z",
     "shell.execute_reply": "2024-01-19T16:21:38.526215Z"
    },
    "papermill": {
     "duration": 0.042879,
     "end_time": "2024-01-19T16:21:38.529489",
     "exception": false,
     "start_time": "2024-01-19T16:21:38.486610",
     "status": "completed"
    },
    "tags": []
   },
   "outputs": [],
   "source": [
    "features=['title','director','cast','listed_in','description']\n",
    "filldna = filldna[features]"
   ]
  },
  {
   "cell_type": "code",
   "execution_count": 38,
   "id": "9209281b",
   "metadata": {
    "execution": {
     "iopub.execute_input": "2024-01-19T16:21:38.592638Z",
     "iopub.status.busy": "2024-01-19T16:21:38.591859Z",
     "iopub.status.idle": "2024-01-19T16:21:38.666238Z",
     "shell.execute_reply": "2024-01-19T16:21:38.665107Z"
    },
    "papermill": {
     "duration": 0.108506,
     "end_time": "2024-01-19T16:21:38.668636",
     "exception": false,
     "start_time": "2024-01-19T16:21:38.560130",
     "status": "completed"
    },
    "tags": []
   },
   "outputs": [
    {
     "data": {
      "text/html": [
       "<div>\n",
       "<style scoped>\n",
       "    .dataframe tbody tr th:only-of-type {\n",
       "        vertical-align: middle;\n",
       "    }\n",
       "\n",
       "    .dataframe tbody tr th {\n",
       "        vertical-align: top;\n",
       "    }\n",
       "\n",
       "    .dataframe thead th {\n",
       "        text-align: right;\n",
       "    }\n",
       "</style>\n",
       "<table border=\"1\" class=\"dataframe\">\n",
       "  <thead>\n",
       "    <tr style=\"text-align: right;\">\n",
       "      <th></th>\n",
       "      <th>title</th>\n",
       "      <th>director</th>\n",
       "      <th>cast</th>\n",
       "      <th>listed_in</th>\n",
       "      <th>description</th>\n",
       "    </tr>\n",
       "  </thead>\n",
       "  <tbody>\n",
       "    <tr>\n",
       "      <th>0</th>\n",
       "      <td>dickjohnsonisdead</td>\n",
       "      <td>kirstenjohnson</td>\n",
       "      <td></td>\n",
       "      <td>documentaries</td>\n",
       "      <td>asherfathernearstheendofhislife,filmmakerkirst...</td>\n",
       "    </tr>\n",
       "    <tr>\n",
       "      <th>1</th>\n",
       "      <td>blood&amp;water</td>\n",
       "      <td></td>\n",
       "      <td>amaqamata,khosingema,gailmabalane,thabangmolab...</td>\n",
       "      <td>internationaltvshows,tvdramas,tvmysteries</td>\n",
       "      <td>aftercrossingpathsataparty,acapetownteensetsou...</td>\n",
       "    </tr>\n",
       "  </tbody>\n",
       "</table>\n",
       "</div>"
      ],
      "text/plain": [
       "               title        director  \\\n",
       "0  dickjohnsonisdead  kirstenjohnson   \n",
       "1        blood&water                   \n",
       "\n",
       "                                                cast  \\\n",
       "0                                                      \n",
       "1  amaqamata,khosingema,gailmabalane,thabangmolab...   \n",
       "\n",
       "                                   listed_in  \\\n",
       "0                              documentaries   \n",
       "1  internationaltvshows,tvdramas,tvmysteries   \n",
       "\n",
       "                                         description  \n",
       "0  asherfathernearstheendofhislife,filmmakerkirst...  \n",
       "1  aftercrossingpathsataparty,acapetownteensetsou...  "
      ]
     },
     "execution_count": 38,
     "metadata": {},
     "output_type": "execute_result"
    }
   ],
   "source": [
    "for feature in features:\n",
    "    filldna[feature] = filldna[feature].apply(clean_data)\n",
    "    \n",
    "filldna.head(2)"
   ]
  },
  {
   "cell_type": "code",
   "execution_count": 39,
   "id": "2888f8c9",
   "metadata": {
    "execution": {
     "iopub.execute_input": "2024-01-19T16:21:38.732625Z",
     "iopub.status.busy": "2024-01-19T16:21:38.731933Z",
     "iopub.status.idle": "2024-01-19T16:21:38.738189Z",
     "shell.execute_reply": "2024-01-19T16:21:38.737071Z"
    },
    "papermill": {
     "duration": 0.041168,
     "end_time": "2024-01-19T16:21:38.740566",
     "exception": false,
     "start_time": "2024-01-19T16:21:38.699398",
     "status": "completed"
    },
    "tags": []
   },
   "outputs": [],
   "source": [
    "def create_tags(x):\n",
    "    return x['title']+ ' ' + x['director'] + ' ' + x['cast'] + ' ' +x['listed_in']+' '+ x['description']"
   ]
  },
  {
   "cell_type": "code",
   "execution_count": 40,
   "id": "70e66e1e",
   "metadata": {
    "execution": {
     "iopub.execute_input": "2024-01-19T16:21:38.805614Z",
     "iopub.status.busy": "2024-01-19T16:21:38.804807Z",
     "iopub.status.idle": "2024-01-19T16:21:39.109033Z",
     "shell.execute_reply": "2024-01-19T16:21:39.107853Z"
    },
    "papermill": {
     "duration": 0.340326,
     "end_time": "2024-01-19T16:21:39.112093",
     "exception": false,
     "start_time": "2024-01-19T16:21:38.771767",
     "status": "completed"
    },
    "tags": []
   },
   "outputs": [],
   "source": [
    "filldna['tags'] = filldna.apply(create_tags, axis=1)"
   ]
  },
  {
   "cell_type": "markdown",
   "id": "5c1c7f7d",
   "metadata": {
    "papermill": {
     "duration": 0.030374,
     "end_time": "2024-01-19T16:21:39.174202",
     "exception": false,
     "start_time": "2024-01-19T16:21:39.143828",
     "status": "completed"
    },
    "tags": []
   },
   "source": [
    "now let's used count vectorizer and then find cosine similarity"
   ]
  },
  {
   "cell_type": "code",
   "execution_count": 41,
   "id": "a0319486",
   "metadata": {
    "execution": {
     "iopub.execute_input": "2024-01-19T16:21:39.237290Z",
     "iopub.status.busy": "2024-01-19T16:21:39.236630Z",
     "iopub.status.idle": "2024-01-19T16:21:41.389999Z",
     "shell.execute_reply": "2024-01-19T16:21:41.388748Z"
    },
    "papermill": {
     "duration": 2.188206,
     "end_time": "2024-01-19T16:21:41.392860",
     "exception": false,
     "start_time": "2024-01-19T16:21:39.204654",
     "status": "completed"
    },
    "tags": []
   },
   "outputs": [],
   "source": [
    "from sklearn.feature_extraction.text import CountVectorizer\n",
    "from sklearn.metrics.pairwise import cosine_similarity\n",
    "\n",
    "count = CountVectorizer(stop_words='english')\n",
    "count_matrix = count.fit_transform(filldna['tags'])\n",
    "\n",
    "cosine_sim = cosine_similarity(count_matrix, count_matrix)"
   ]
  },
  {
   "cell_type": "code",
   "execution_count": 42,
   "id": "2361e03c",
   "metadata": {
    "execution": {
     "iopub.execute_input": "2024-01-19T16:21:41.464437Z",
     "iopub.status.busy": "2024-01-19T16:21:41.464031Z",
     "iopub.status.idle": "2024-01-19T16:21:41.472593Z",
     "shell.execute_reply": "2024-01-19T16:21:41.471728Z"
    },
    "papermill": {
     "duration": 0.044685,
     "end_time": "2024-01-19T16:21:41.475326",
     "exception": false,
     "start_time": "2024-01-19T16:21:41.430641",
     "status": "completed"
    },
    "tags": []
   },
   "outputs": [],
   "source": [
    "filldna=filldna.reset_index()\n",
    "indices = pd.Series(filldna.index, index=filldna['title'])"
   ]
  },
  {
   "cell_type": "code",
   "execution_count": 43,
   "id": "057fcc09",
   "metadata": {
    "execution": {
     "iopub.execute_input": "2024-01-19T16:21:41.552036Z",
     "iopub.status.busy": "2024-01-19T16:21:41.551623Z",
     "iopub.status.idle": "2024-01-19T16:21:41.559052Z",
     "shell.execute_reply": "2024-01-19T16:21:41.557917Z"
    },
    "papermill": {
     "duration": 0.049925,
     "end_time": "2024-01-19T16:21:41.561406",
     "exception": false,
     "start_time": "2024-01-19T16:21:41.511481",
     "status": "completed"
    },
    "tags": []
   },
   "outputs": [],
   "source": [
    "def get_recommendations_new(title, cosine_sim=cosine_sim):\n",
    "    title=title.replace(' ','').lower()\n",
    "    idx = indices[title]\n",
    "\n",
    "    # Get the pairwsie similarity scores of all movies with that movie\n",
    "    sim_scores = list(enumerate(cosine_sim[idx]))\n",
    "\n",
    "    # Sort the movies based on the similarity scores\n",
    "    sim_scores = sorted(sim_scores, key=lambda x: x[1], reverse=True)\n",
    "\n",
    "    # Get the scores of the 10 most similar movies\n",
    "    sim_scores = sim_scores[1:11]\n",
    "\n",
    "    # Get the movie indices\n",
    "    movie_indices = [i[0] for i in sim_scores]\n",
    "\n",
    "    # Return the top 10 most similar movies\n",
    "    return OTT['title'].iloc[movie_indices]"
   ]
  },
  {
   "cell_type": "code",
   "execution_count": 44,
   "id": "3ec80a27",
   "metadata": {
    "execution": {
     "iopub.execute_input": "2024-01-19T16:21:41.634978Z",
     "iopub.status.busy": "2024-01-19T16:21:41.634608Z",
     "iopub.status.idle": "2024-01-19T16:21:41.651692Z",
     "shell.execute_reply": "2024-01-19T16:21:41.650901Z"
    },
    "papermill": {
     "duration": 0.061011,
     "end_time": "2024-01-19T16:21:41.654304",
     "exception": false,
     "start_time": "2024-01-19T16:21:41.593293",
     "status": "completed"
    },
    "tags": []
   },
   "outputs": [
    {
     "data": {
      "text/plain": [
       "2982                                        Find Yourself\n",
       "1038                                       Dancing Angels\n",
       "7438                     Melodies of Life - Born This Way\n",
       "3293                                        Little Things\n",
       "6508    Club Friday To Be Continued - My Beautiful Tomboy\n",
       "7872                                           Rishta.com\n",
       "3463                                      College Romance\n",
       "4171                                    The Perfect Match\n",
       "4487                                 Accidentally in Love\n",
       "5703                                          Refresh Man\n",
       "Name: title, dtype: object"
      ]
     },
     "execution_count": 44,
     "metadata": {},
     "output_type": "execute_result"
    }
   ],
   "source": [
    "get_recommendations_new('Kota Factory', cosine_sim)"
   ]
  },
  {
   "cell_type": "markdown",
   "id": "06f14a05",
   "metadata": {
    "papermill": {
     "duration": 0.030912,
     "end_time": "2024-01-19T16:21:41.722815",
     "exception": false,
     "start_time": "2024-01-19T16:21:41.691903",
     "status": "completed"
    },
    "tags": []
   },
   "source": [
    "####                                                                    That's all \n",
    "####                                                                    Do Upvote!!!\n"
   ]
  },
  {
   "cell_type": "markdown",
   "id": "c0e6e329",
   "metadata": {
    "papermill": {
     "duration": 0.031035,
     "end_time": "2024-01-19T16:21:41.784554",
     "exception": false,
     "start_time": "2024-01-19T16:21:41.753519",
     "status": "completed"
    },
    "tags": []
   },
   "source": [
    "<center>\n",
    "    <figure>\n",
    "        <img src=\"https://media.giphy.com/media/v1.Y2lkPTc5MGI3NjExa2JxYnBodzlqZ3hoYW9mZjhpYndpaTFkNndydWhnMGkyNHA2ZTB0NiZlcD12MV9pbnRlcm5hbF9naWZfYnlfaWQmY3Q9Zw/MKoyVvDRQvVAZbv4GD/giphy.gif\"  style='width:30%;'>\n",
    "    </figure>\n",
    "</center>"
   ]
  }
 ],
 "metadata": {
  "kaggle": {
   "accelerator": "none",
   "dataSources": [
    {
     "datasetId": 434238,
     "sourceId": 2654038,
     "sourceType": "datasetVersion"
    }
   ],
   "dockerImageVersionId": 30635,
   "isGpuEnabled": false,
   "isInternetEnabled": true,
   "language": "python",
   "sourceType": "notebook"
  },
  "kernelspec": {
   "display_name": "Python 3",
   "language": "python",
   "name": "python3"
  },
  "language_info": {
   "codemirror_mode": {
    "name": "ipython",
    "version": 3
   },
   "file_extension": ".py",
   "mimetype": "text/x-python",
   "name": "python",
   "nbconvert_exporter": "python",
   "pygments_lexer": "ipython3",
   "version": "3.10.12"
  },
  "papermill": {
   "default_parameters": {},
   "duration": 20.359266,
   "end_time": "2024-01-19T16:21:42.736973",
   "environment_variables": {},
   "exception": null,
   "input_path": "__notebook__.ipynb",
   "output_path": "__notebook__.ipynb",
   "parameters": {},
   "start_time": "2024-01-19T16:21:22.377707",
   "version": "2.4.0"
  }
 },
 "nbformat": 4,
 "nbformat_minor": 5
}
